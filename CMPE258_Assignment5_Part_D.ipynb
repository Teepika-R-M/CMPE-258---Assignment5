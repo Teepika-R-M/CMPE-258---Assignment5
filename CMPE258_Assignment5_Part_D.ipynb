{
  "nbformat": 4,
  "nbformat_minor": 0,
  "metadata": {
    "colab": {
      "name": "CMPE258 Assignment5-Part D.ipynb",
      "provenance": [],
      "collapsed_sections": [],
      "toc_visible": true,
      "machine_shape": "hm"
    },
    "kernelspec": {
      "name": "python3",
      "display_name": "Python 3"
    },
    "language_info": {
      "name": "python"
    },
    "accelerator": "GPU"
  },
  "cells": [
    {
      "cell_type": "markdown",
      "metadata": {
        "id": "XF5UQXtdq1fM"
      },
      "source": [
        "### NYC Taxi dataset:\n",
        "Use NYC's openly available taxi-fare dataset to predict the price of a Taxi ride. Our goal is to use TF as the ML Framework to build a pipeline which should be capable of scaling on infinite data to make an enterprise scale model."
      ]
    },
    {
      "cell_type": "markdown",
      "metadata": {
        "id": "LEukPcELq958"
      },
      "source": [
        "###Xgboost Model"
      ]
    },
    {
      "cell_type": "code",
      "metadata": {
        "id": "ltQKoJPVVKm7"
      },
      "source": [
        "# load some default Python modules\n",
        "import numpy as np\n",
        "import pandas as pd\n",
        "\n",
        "import matplotlib.pyplot as plt\n",
        "import seaborn as sns\n",
        "% matplotlib inline\n",
        "\n",
        "plt.style.use('seaborn-whitegrid')\n",
        "\n",
        "import warnings\n",
        "warnings.filterwarnings('ignore')"
      ],
      "execution_count": 1,
      "outputs": []
    },
    {
      "cell_type": "code",
      "metadata": {
        "colab": {
          "base_uri": "https://localhost:8080/"
        },
        "id": "dDasxNFDVqm4",
        "outputId": "17f4c586-77a4-47a5-a86c-42de3220b283"
      },
      "source": [
        "from google.colab import drive\n",
        "drive.mount('/content/drive')"
      ],
      "execution_count": 2,
      "outputs": [
        {
          "output_type": "stream",
          "text": [
            "Mounted at /content/drive\n"
          ],
          "name": "stdout"
        }
      ]
    },
    {
      "cell_type": "code",
      "metadata": {
        "colab": {
          "base_uri": "https://localhost:8080/",
          "height": 309
        },
        "id": "JKcuxFfaVx5D",
        "outputId": "113c3995-2365-417f-baa1-ec716ee9ea1e"
      },
      "source": [
        "train = pd.read_csv('/content/drive/My Drive/DeepLearning/TaxiDataset/train.csv', sep=',',nrows=300000)\n",
        "train.head()\n"
      ],
      "execution_count": 3,
      "outputs": [
        {
          "output_type": "execute_result",
          "data": {
            "text/html": [
              "<div>\n",
              "<style scoped>\n",
              "    .dataframe tbody tr th:only-of-type {\n",
              "        vertical-align: middle;\n",
              "    }\n",
              "\n",
              "    .dataframe tbody tr th {\n",
              "        vertical-align: top;\n",
              "    }\n",
              "\n",
              "    .dataframe thead th {\n",
              "        text-align: right;\n",
              "    }\n",
              "</style>\n",
              "<table border=\"1\" class=\"dataframe\">\n",
              "  <thead>\n",
              "    <tr style=\"text-align: right;\">\n",
              "      <th></th>\n",
              "      <th>key</th>\n",
              "      <th>fare_amount</th>\n",
              "      <th>pickup_datetime</th>\n",
              "      <th>pickup_longitude</th>\n",
              "      <th>pickup_latitude</th>\n",
              "      <th>dropoff_longitude</th>\n",
              "      <th>dropoff_latitude</th>\n",
              "      <th>passenger_count</th>\n",
              "    </tr>\n",
              "  </thead>\n",
              "  <tbody>\n",
              "    <tr>\n",
              "      <th>0</th>\n",
              "      <td>2009-06-15 17:26:21.0000001</td>\n",
              "      <td>4.5</td>\n",
              "      <td>2009-06-15 17:26:21 UTC</td>\n",
              "      <td>-73.844311</td>\n",
              "      <td>40.721319</td>\n",
              "      <td>-73.841610</td>\n",
              "      <td>40.712278</td>\n",
              "      <td>1</td>\n",
              "    </tr>\n",
              "    <tr>\n",
              "      <th>1</th>\n",
              "      <td>2010-01-05 16:52:16.0000002</td>\n",
              "      <td>16.9</td>\n",
              "      <td>2010-01-05 16:52:16 UTC</td>\n",
              "      <td>-74.016048</td>\n",
              "      <td>40.711303</td>\n",
              "      <td>-73.979268</td>\n",
              "      <td>40.782004</td>\n",
              "      <td>1</td>\n",
              "    </tr>\n",
              "    <tr>\n",
              "      <th>2</th>\n",
              "      <td>2011-08-18 00:35:00.00000049</td>\n",
              "      <td>5.7</td>\n",
              "      <td>2011-08-18 00:35:00 UTC</td>\n",
              "      <td>-73.982738</td>\n",
              "      <td>40.761270</td>\n",
              "      <td>-73.991242</td>\n",
              "      <td>40.750562</td>\n",
              "      <td>2</td>\n",
              "    </tr>\n",
              "    <tr>\n",
              "      <th>3</th>\n",
              "      <td>2012-04-21 04:30:42.0000001</td>\n",
              "      <td>7.7</td>\n",
              "      <td>2012-04-21 04:30:42 UTC</td>\n",
              "      <td>-73.987130</td>\n",
              "      <td>40.733143</td>\n",
              "      <td>-73.991567</td>\n",
              "      <td>40.758092</td>\n",
              "      <td>1</td>\n",
              "    </tr>\n",
              "    <tr>\n",
              "      <th>4</th>\n",
              "      <td>2010-03-09 07:51:00.000000135</td>\n",
              "      <td>5.3</td>\n",
              "      <td>2010-03-09 07:51:00 UTC</td>\n",
              "      <td>-73.968095</td>\n",
              "      <td>40.768008</td>\n",
              "      <td>-73.956655</td>\n",
              "      <td>40.783762</td>\n",
              "      <td>1</td>\n",
              "    </tr>\n",
              "  </tbody>\n",
              "</table>\n",
              "</div>"
            ],
            "text/plain": [
              "                             key  ...  passenger_count\n",
              "0    2009-06-15 17:26:21.0000001  ...                1\n",
              "1    2010-01-05 16:52:16.0000002  ...                1\n",
              "2   2011-08-18 00:35:00.00000049  ...                2\n",
              "3    2012-04-21 04:30:42.0000001  ...                1\n",
              "4  2010-03-09 07:51:00.000000135  ...                1\n",
              "\n",
              "[5 rows x 8 columns]"
            ]
          },
          "metadata": {
            "tags": []
          },
          "execution_count": 3
        }
      ]
    },
    {
      "cell_type": "code",
      "metadata": {
        "colab": {
          "base_uri": "https://localhost:8080/"
        },
        "id": "ZICLIhzWV9g3",
        "outputId": "73f12475-af86-4751-cef9-bb5aca304497"
      },
      "source": [
        "# datatypes\n",
        "train.dtypes"
      ],
      "execution_count": 4,
      "outputs": [
        {
          "output_type": "execute_result",
          "data": {
            "text/plain": [
              "key                   object\n",
              "fare_amount          float64\n",
              "pickup_datetime       object\n",
              "pickup_longitude     float64\n",
              "pickup_latitude      float64\n",
              "dropoff_longitude    float64\n",
              "dropoff_latitude     float64\n",
              "passenger_count        int64\n",
              "dtype: object"
            ]
          },
          "metadata": {
            "tags": []
          },
          "execution_count": 4
        }
      ]
    },
    {
      "cell_type": "code",
      "metadata": {
        "colab": {
          "base_uri": "https://localhost:8080/",
          "height": 297
        },
        "id": "l0FN_mdqWAQ8",
        "outputId": "a8268aec-2f5a-4ee1-ba98-4ee00b47de43"
      },
      "source": [
        "# Basic Stats of the data set\n",
        "train.describe()"
      ],
      "execution_count": 5,
      "outputs": [
        {
          "output_type": "execute_result",
          "data": {
            "text/html": [
              "<div>\n",
              "<style scoped>\n",
              "    .dataframe tbody tr th:only-of-type {\n",
              "        vertical-align: middle;\n",
              "    }\n",
              "\n",
              "    .dataframe tbody tr th {\n",
              "        vertical-align: top;\n",
              "    }\n",
              "\n",
              "    .dataframe thead th {\n",
              "        text-align: right;\n",
              "    }\n",
              "</style>\n",
              "<table border=\"1\" class=\"dataframe\">\n",
              "  <thead>\n",
              "    <tr style=\"text-align: right;\">\n",
              "      <th></th>\n",
              "      <th>fare_amount</th>\n",
              "      <th>pickup_longitude</th>\n",
              "      <th>pickup_latitude</th>\n",
              "      <th>dropoff_longitude</th>\n",
              "      <th>dropoff_latitude</th>\n",
              "      <th>passenger_count</th>\n",
              "    </tr>\n",
              "  </thead>\n",
              "  <tbody>\n",
              "    <tr>\n",
              "      <th>count</th>\n",
              "      <td>300000.000000</td>\n",
              "      <td>300000.000000</td>\n",
              "      <td>300000.000000</td>\n",
              "      <td>299998.000000</td>\n",
              "      <td>299998.000000</td>\n",
              "      <td>300000.000000</td>\n",
              "    </tr>\n",
              "    <tr>\n",
              "      <th>mean</th>\n",
              "      <td>11.359876</td>\n",
              "      <td>-72.523230</td>\n",
              "      <td>39.928171</td>\n",
              "      <td>-72.529448</td>\n",
              "      <td>39.927360</td>\n",
              "      <td>1.684403</td>\n",
              "    </tr>\n",
              "    <tr>\n",
              "      <th>std</th>\n",
              "      <td>9.932815</td>\n",
              "      <td>11.325144</td>\n",
              "      <td>8.953498</td>\n",
              "      <td>10.914682</td>\n",
              "      <td>6.546706</td>\n",
              "      <td>1.309132</td>\n",
              "    </tr>\n",
              "    <tr>\n",
              "      <th>min</th>\n",
              "      <td>-44.900000</td>\n",
              "      <td>-740.000000</td>\n",
              "      <td>-3116.285383</td>\n",
              "      <td>-1329.621332</td>\n",
              "      <td>-1189.615440</td>\n",
              "      <td>0.000000</td>\n",
              "    </tr>\n",
              "    <tr>\n",
              "      <th>25%</th>\n",
              "      <td>6.000000</td>\n",
              "      <td>-73.992050</td>\n",
              "      <td>40.734985</td>\n",
              "      <td>-73.991350</td>\n",
              "      <td>40.734059</td>\n",
              "      <td>1.000000</td>\n",
              "    </tr>\n",
              "    <tr>\n",
              "      <th>50%</th>\n",
              "      <td>8.500000</td>\n",
              "      <td>-73.981762</td>\n",
              "      <td>40.752737</td>\n",
              "      <td>-73.980116</td>\n",
              "      <td>40.753185</td>\n",
              "      <td>1.000000</td>\n",
              "    </tr>\n",
              "    <tr>\n",
              "      <th>75%</th>\n",
              "      <td>12.500000</td>\n",
              "      <td>-73.967097</td>\n",
              "      <td>40.767108</td>\n",
              "      <td>-73.963565</td>\n",
              "      <td>40.768095</td>\n",
              "      <td>2.000000</td>\n",
              "    </tr>\n",
              "    <tr>\n",
              "      <th>max</th>\n",
              "      <td>500.000000</td>\n",
              "      <td>2140.601160</td>\n",
              "      <td>1703.092772</td>\n",
              "      <td>40.851027</td>\n",
              "      <td>404.616667</td>\n",
              "      <td>6.000000</td>\n",
              "    </tr>\n",
              "  </tbody>\n",
              "</table>\n",
              "</div>"
            ],
            "text/plain": [
              "         fare_amount  pickup_longitude  ...  dropoff_latitude  passenger_count\n",
              "count  300000.000000     300000.000000  ...     299998.000000    300000.000000\n",
              "mean       11.359876        -72.523230  ...         39.927360         1.684403\n",
              "std         9.932815         11.325144  ...          6.546706         1.309132\n",
              "min       -44.900000       -740.000000  ...      -1189.615440         0.000000\n",
              "25%         6.000000        -73.992050  ...         40.734059         1.000000\n",
              "50%         8.500000        -73.981762  ...         40.753185         1.000000\n",
              "75%        12.500000        -73.967097  ...         40.768095         2.000000\n",
              "max       500.000000       2140.601160  ...        404.616667         6.000000\n",
              "\n",
              "[8 rows x 6 columns]"
            ]
          },
          "metadata": {
            "tags": []
          },
          "execution_count": 5
        }
      ]
    },
    {
      "cell_type": "code",
      "metadata": {
        "colab": {
          "base_uri": "https://localhost:8080/"
        },
        "id": "sJHBW1EgWEIB",
        "outputId": "e98becd6-654b-4490-f8fc-0b71718ff3ff"
      },
      "source": [
        "print(\"old size: %d\" % len(train))\n",
        "train = train[train.fare_amount >=0]\n",
        "print(\"New size: %d\" % len(train))"
      ],
      "execution_count": 6,
      "outputs": [
        {
          "output_type": "stream",
          "text": [
            "old size: 300000\n",
            "New size: 299985\n"
          ],
          "name": "stdout"
        }
      ]
    },
    {
      "cell_type": "code",
      "metadata": {
        "colab": {
          "base_uri": "https://localhost:8080/"
        },
        "id": "c48dkzuQWHMV",
        "outputId": "85146c61-ba8f-4523-a030-0e756fd55e87"
      },
      "source": [
        "# check missing data\n",
        "train.isnull().sum()"
      ],
      "execution_count": 7,
      "outputs": [
        {
          "output_type": "execute_result",
          "data": {
            "text/plain": [
              "key                  0\n",
              "fare_amount          0\n",
              "pickup_datetime      0\n",
              "pickup_longitude     0\n",
              "pickup_latitude      0\n",
              "dropoff_longitude    2\n",
              "dropoff_latitude     2\n",
              "passenger_count      0\n",
              "dtype: int64"
            ]
          },
          "metadata": {
            "tags": []
          },
          "execution_count": 7
        }
      ]
    },
    {
      "cell_type": "code",
      "metadata": {
        "colab": {
          "base_uri": "https://localhost:8080/"
        },
        "id": "jjn6HG8_WKjr",
        "outputId": "1ac115ef-3121-4044-96c8-f09d04858e3a"
      },
      "source": [
        "print(\"old size: %d\" % len(train))\n",
        "train = train.dropna(how='any', axis=0)\n",
        "print(\"New size after dropping missing value: %d\" % len(train))"
      ],
      "execution_count": 8,
      "outputs": [
        {
          "output_type": "stream",
          "text": [
            "old size: 299985\n",
            "New size after dropping missing value: 299983\n"
          ],
          "name": "stdout"
        }
      ]
    },
    {
      "cell_type": "code",
      "metadata": {
        "colab": {
          "base_uri": "https://localhost:8080/",
          "height": 510
        },
        "id": "UIIQUF_lWODc",
        "outputId": "b0c0d21c-fb17-4fdd-efb2-46f7aa6d6394"
      },
      "source": [
        "# Lets see the distribution of fare amount \n",
        "train.fare_amount.hist(bins=100, figsize = (16,8))\n",
        "plt.xlabel(\"Fare Amount\")\n",
        "plt.ylabel(\"Frequency\")"
      ],
      "execution_count": 9,
      "outputs": [
        {
          "output_type": "execute_result",
          "data": {
            "text/plain": [
              "Text(0, 0.5, 'Frequency')"
            ]
          },
          "metadata": {
            "tags": []
          },
          "execution_count": 9
        },
        {
          "output_type": "display_data",
          "data": {
            "image/png": "[encoded data removed]",
            "text/plain": [
              "<Figure size 1152x576 with 1 Axes>"
            ]
          },
          "metadata": {
            "tags": [],
            "needs_background": "light"
          }
        }
      ]
    },
    {
      "cell_type": "code",
      "metadata": {
        "colab": {
          "base_uri": "https://localhost:8080/",
          "height": 510
        },
        "id": "F7zhqz-AWSCO",
        "outputId": "0359a161-858b-477a-e4b4-5727367a56e3"
      },
      "source": [
        "# Lets see the distribution of fare amount less than 100\n",
        "train[train.fare_amount <100 ].fare_amount.hist(bins=100, figsize = (16,8))\n",
        "plt.xlabel(\"Fare Amount\")\n",
        "plt.ylabel(\"Frequency\")"
      ],
      "execution_count": 10,
      "outputs": [
        {
          "output_type": "execute_result",
          "data": {
            "text/plain": [
              "Text(0, 0.5, 'Frequency')"
            ]
          },
          "metadata": {
            "tags": []
          },
          "execution_count": 10
        },
        {
          "output_type": "display_data",
          "data": {
            "image/png": "[encoded data removed]",
            "text/plain": [
              "<Figure size 1152x576 with 1 Axes>"
            ]
          },
          "metadata": {
            "tags": [],
            "needs_background": "light"
          }
        }
      ]
    },
    {
      "cell_type": "code",
      "metadata": {
        "colab": {
          "base_uri": "https://localhost:8080/"
        },
        "id": "nYhxFvE8WW5t",
        "outputId": "f04df667-754d-4ddd-c009-42924cfbd191"
      },
      "source": [
        "train[train.fare_amount >100 ].shape"
      ],
      "execution_count": 11,
      "outputs": [
        {
          "output_type": "execute_result",
          "data": {
            "text/plain": [
              "(131, 8)"
            ]
          },
          "metadata": {
            "tags": []
          },
          "execution_count": 11
        }
      ]
    },
    {
      "cell_type": "code",
      "metadata": {
        "colab": {
          "base_uri": "https://localhost:8080/",
          "height": 510
        },
        "id": "aGe8_jcsWbBE",
        "outputId": "aa2ad96b-db9e-4970-a1a4-6bffacc4cbf8"
      },
      "source": [
        "# Lets see the distribution of fare amount more than 100\n",
        "train[train.fare_amount >100 ].fare_amount.hist(bins=100, figsize = (16,8))\n",
        "plt.xlabel(\"Fare Amount\")\n",
        "plt.ylabel(\"Frequency\")"
      ],
      "execution_count": 12,
      "outputs": [
        {
          "output_type": "execute_result",
          "data": {
            "text/plain": [
              "Text(0, 0.5, 'Frequency')"
            ]
          },
          "metadata": {
            "tags": []
          },
          "execution_count": 12
        },
        {
          "output_type": "display_data",
          "data": {
            "image/png": "[encoded data removed]",
            "text/plain": [
              "<Figure size 1152x576 with 1 Axes>"
            ]
          },
          "metadata": {
            "tags": [],
            "needs_background": "light"
          }
        }
      ]
    },
    {
      "cell_type": "code",
      "metadata": {
        "colab": {
          "base_uri": "https://localhost:8080/",
          "height": 510
        },
        "id": "FXca2t6KWfAM",
        "outputId": "226a27d6-50db-49e6-ea40-17452d00ab34"
      },
      "source": [
        "# checking for passanger count greater than 7\n",
        "train[train.passenger_count >7].passenger_count.hist(bins=10, figsize = (16,8))\n",
        "plt.xlabel(\"Passanger Count\")\n",
        "plt.ylabel(\"Frequency\")"
      ],
      "execution_count": 13,
      "outputs": [
        {
          "output_type": "execute_result",
          "data": {
            "text/plain": [
              "Text(0, 0.5, 'Frequency')"
            ]
          },
          "metadata": {
            "tags": []
          },
          "execution_count": 13
        },
        {
          "output_type": "display_data",
          "data": {
            "image/png": "[encoded data removed]",
            "text/plain": [
              "<Figure size 1152x576 with 1 Axes>"
            ]
          },
          "metadata": {
            "tags": [],
            "needs_background": "light"
          }
        }
      ]
    },
    {
      "cell_type": "code",
      "metadata": {
        "colab": {
          "base_uri": "https://localhost:8080/",
          "height": 69
        },
        "id": "qSu6DtoTWzjg",
        "outputId": "f9ed8776-04ee-4c7a-818c-6e5427f9947d"
      },
      "source": [
        "# data for passanger count greater than 7\n",
        "train[train.passenger_count >7]"
      ],
      "execution_count": 14,
      "outputs": [
        {
          "output_type": "execute_result",
          "data": {
            "text/html": [
              "<div>\n",
              "<style scoped>\n",
              "    .dataframe tbody tr th:only-of-type {\n",
              "        vertical-align: middle;\n",
              "    }\n",
              "\n",
              "    .dataframe tbody tr th {\n",
              "        vertical-align: top;\n",
              "    }\n",
              "\n",
              "    .dataframe thead th {\n",
              "        text-align: right;\n",
              "    }\n",
              "</style>\n",
              "<table border=\"1\" class=\"dataframe\">\n",
              "  <thead>\n",
              "    <tr style=\"text-align: right;\">\n",
              "      <th></th>\n",
              "      <th>key</th>\n",
              "      <th>fare_amount</th>\n",
              "      <th>pickup_datetime</th>\n",
              "      <th>pickup_longitude</th>\n",
              "      <th>pickup_latitude</th>\n",
              "      <th>dropoff_longitude</th>\n",
              "      <th>dropoff_latitude</th>\n",
              "      <th>passenger_count</th>\n",
              "    </tr>\n",
              "  </thead>\n",
              "  <tbody>\n",
              "  </tbody>\n",
              "</table>\n",
              "</div>"
            ],
            "text/plain": [
              "Empty DataFrame\n",
              "Columns: [key, fare_amount, pickup_datetime, pickup_longitude, pickup_latitude, dropoff_longitude, dropoff_latitude, passenger_count]\n",
              "Index: []"
            ]
          },
          "metadata": {
            "tags": []
          },
          "execution_count": 14
        }
      ]
    },
    {
      "cell_type": "code",
      "metadata": {
        "colab": {
          "base_uri": "https://localhost:8080/",
          "height": 510
        },
        "id": "Jw4x-dlNW3Gu",
        "outputId": "0b9fba55-358b-4455-9ce9-d1dd554a1c75"
      },
      "source": [
        "# checking for passanger count less than 7\n",
        "train[train.passenger_count <7].passenger_count.hist(bins=10, figsize = (16,8))\n",
        "plt.xlabel(\"Passanger Count\")\n",
        "plt.ylabel(\"Frequency\")"
      ],
      "execution_count": 15,
      "outputs": [
        {
          "output_type": "execute_result",
          "data": {
            "text/plain": [
              "Text(0, 0.5, 'Frequency')"
            ]
          },
          "metadata": {
            "tags": []
          },
          "execution_count": 15
        },
        {
          "output_type": "display_data",
          "data": {
            "image/png": "[encoded data removed]",
            "text/plain": [
              "<Figure size 1152x576 with 1 Axes>"
            ]
          },
          "metadata": {
            "tags": [],
            "needs_background": "light"
          }
        }
      ]
    },
    {
      "cell_type": "code",
      "metadata": {
        "colab": {
          "base_uri": "https://localhost:8080/"
        },
        "id": "DcKsuX2-W67m",
        "outputId": "bbf9e588-27fb-433f-b680-93ef78441099"
      },
      "source": [
        "# checking for records where passanger count is 0\n",
        "train[train.passenger_count ==0].shape"
      ],
      "execution_count": 16,
      "outputs": [
        {
          "output_type": "execute_result",
          "data": {
            "text/plain": [
              "(1074, 8)"
            ]
          },
          "metadata": {
            "tags": []
          },
          "execution_count": 16
        }
      ]
    },
    {
      "cell_type": "code",
      "metadata": {
        "colab": {
          "base_uri": "https://localhost:8080/",
          "height": 510
        },
        "id": "0rsMS31wW-Dx",
        "outputId": "f184e132-ce26-40ee-bc4f-71ac5ee34f0f"
      },
      "source": [
        "plt.figure(figsize= (16,8))\n",
        "sns.boxplot(x = train[train.passenger_count< 7].passenger_count, y = train.fare_amount)"
      ],
      "execution_count": 17,
      "outputs": [
        {
          "output_type": "execute_result",
          "data": {
            "text/plain": [
              "<matplotlib.axes._subplots.AxesSubplot at 0x7fa0b9f4fb10>"
            ]
          },
          "metadata": {
            "tags": []
          },
          "execution_count": 17
        },
        {
          "output_type": "display_data",
          "data": {
            "image/png": "[encoded data removed]",
            "text/plain": [
              "<Figure size 1152x576 with 1 Axes>"
            ]
          },
          "metadata": {
            "tags": [],
            "needs_background": "light"
          }
        }
      ]
    },
    {
      "cell_type": "code",
      "metadata": {
        "colab": {
          "base_uri": "https://localhost:8080/",
          "height": 111
        },
        "id": "vBtkRKqvXB8n",
        "outputId": "24fbe7f1-ccb5-4179-b44f-36f76758a06b"
      },
      "source": [
        "train[train.passenger_count <7][['fare_amount','passenger_count']].corr()"
      ],
      "execution_count": 18,
      "outputs": [
        {
          "output_type": "execute_result",
          "data": {
            "text/html": [
              "<div>\n",
              "<style scoped>\n",
              "    .dataframe tbody tr th:only-of-type {\n",
              "        vertical-align: middle;\n",
              "    }\n",
              "\n",
              "    .dataframe tbody tr th {\n",
              "        vertical-align: top;\n",
              "    }\n",
              "\n",
              "    .dataframe thead th {\n",
              "        text-align: right;\n",
              "    }\n",
              "</style>\n",
              "<table border=\"1\" class=\"dataframe\">\n",
              "  <thead>\n",
              "    <tr style=\"text-align: right;\">\n",
              "      <th></th>\n",
              "      <th>fare_amount</th>\n",
              "      <th>passenger_count</th>\n",
              "    </tr>\n",
              "  </thead>\n",
              "  <tbody>\n",
              "    <tr>\n",
              "      <th>fare_amount</th>\n",
              "      <td>1.000000</td>\n",
              "      <td>0.012941</td>\n",
              "    </tr>\n",
              "    <tr>\n",
              "      <th>passenger_count</th>\n",
              "      <td>0.012941</td>\n",
              "      <td>1.000000</td>\n",
              "    </tr>\n",
              "  </tbody>\n",
              "</table>\n",
              "</div>"
            ],
            "text/plain": [
              "                 fare_amount  passenger_count\n",
              "fare_amount         1.000000         0.012941\n",
              "passenger_count     0.012941         1.000000"
            ]
          },
          "metadata": {
            "tags": []
          },
          "execution_count": 18
        }
      ]
    },
    {
      "cell_type": "code",
      "metadata": {
        "id": "EJ7XDP5xXMHa",
        "colab": {
          "base_uri": "https://localhost:8080/",
          "height": 309
        },
        "outputId": "f1b939ff-b239-49d3-8fe9-389d74b47273"
      },
      "source": [
        "test = pd.read_csv('/content/drive/My Drive/DeepLearning/TaxiDataset/test.csv', sep=',')\n",
        "test.head()\n"
      ],
      "execution_count": 19,
      "outputs": [
        {
          "output_type": "execute_result",
          "data": {
            "text/html": [
              "<div>\n",
              "<style scoped>\n",
              "    .dataframe tbody tr th:only-of-type {\n",
              "        vertical-align: middle;\n",
              "    }\n",
              "\n",
              "    .dataframe tbody tr th {\n",
              "        vertical-align: top;\n",
              "    }\n",
              "\n",
              "    .dataframe thead th {\n",
              "        text-align: right;\n",
              "    }\n",
              "</style>\n",
              "<table border=\"1\" class=\"dataframe\">\n",
              "  <thead>\n",
              "    <tr style=\"text-align: right;\">\n",
              "      <th></th>\n",
              "      <th>key</th>\n",
              "      <th>pickup_datetime</th>\n",
              "      <th>pickup_longitude</th>\n",
              "      <th>pickup_latitude</th>\n",
              "      <th>dropoff_longitude</th>\n",
              "      <th>dropoff_latitude</th>\n",
              "      <th>passenger_count</th>\n",
              "    </tr>\n",
              "  </thead>\n",
              "  <tbody>\n",
              "    <tr>\n",
              "      <th>0</th>\n",
              "      <td>2015-01-27 13:08:24.0000002</td>\n",
              "      <td>2015-01-27 13:08:24 UTC</td>\n",
              "      <td>-73.973320</td>\n",
              "      <td>40.763805</td>\n",
              "      <td>-73.981430</td>\n",
              "      <td>40.743835</td>\n",
              "      <td>1</td>\n",
              "    </tr>\n",
              "    <tr>\n",
              "      <th>1</th>\n",
              "      <td>2015-01-27 13:08:24.0000003</td>\n",
              "      <td>2015-01-27 13:08:24 UTC</td>\n",
              "      <td>-73.986862</td>\n",
              "      <td>40.719383</td>\n",
              "      <td>-73.998886</td>\n",
              "      <td>40.739201</td>\n",
              "      <td>1</td>\n",
              "    </tr>\n",
              "    <tr>\n",
              "      <th>2</th>\n",
              "      <td>2011-10-08 11:53:44.0000002</td>\n",
              "      <td>2011-10-08 11:53:44 UTC</td>\n",
              "      <td>-73.982524</td>\n",
              "      <td>40.751260</td>\n",
              "      <td>-73.979654</td>\n",
              "      <td>40.746139</td>\n",
              "      <td>1</td>\n",
              "    </tr>\n",
              "    <tr>\n",
              "      <th>3</th>\n",
              "      <td>2012-12-01 21:12:12.0000002</td>\n",
              "      <td>2012-12-01 21:12:12 UTC</td>\n",
              "      <td>-73.981160</td>\n",
              "      <td>40.767807</td>\n",
              "      <td>-73.990448</td>\n",
              "      <td>40.751635</td>\n",
              "      <td>1</td>\n",
              "    </tr>\n",
              "    <tr>\n",
              "      <th>4</th>\n",
              "      <td>2012-12-01 21:12:12.0000003</td>\n",
              "      <td>2012-12-01 21:12:12 UTC</td>\n",
              "      <td>-73.966046</td>\n",
              "      <td>40.789775</td>\n",
              "      <td>-73.988565</td>\n",
              "      <td>40.744427</td>\n",
              "      <td>1</td>\n",
              "    </tr>\n",
              "  </tbody>\n",
              "</table>\n",
              "</div>"
            ],
            "text/plain": [
              "                           key  ... passenger_count\n",
              "0  2015-01-27 13:08:24.0000002  ...               1\n",
              "1  2015-01-27 13:08:24.0000003  ...               1\n",
              "2  2011-10-08 11:53:44.0000002  ...               1\n",
              "3  2012-12-01 21:12:12.0000002  ...               1\n",
              "4  2012-12-01 21:12:12.0000003  ...               1\n",
              "\n",
              "[5 rows x 7 columns]"
            ]
          },
          "metadata": {
            "tags": []
          },
          "execution_count": 19
        }
      ]
    },
    {
      "cell_type": "code",
      "metadata": {
        "colab": {
          "base_uri": "https://localhost:8080/"
        },
        "id": "lgSpQf-mXWhg",
        "outputId": "46951411-8531-472c-8485-705109c50270"
      },
      "source": [
        "#check for missing value\n",
        "test.isnull().sum()"
      ],
      "execution_count": 20,
      "outputs": [
        {
          "output_type": "execute_result",
          "data": {
            "text/plain": [
              "key                  0\n",
              "pickup_datetime      0\n",
              "pickup_longitude     0\n",
              "pickup_latitude      0\n",
              "dropoff_longitude    0\n",
              "dropoff_latitude     0\n",
              "passenger_count      0\n",
              "dtype: int64"
            ]
          },
          "metadata": {
            "tags": []
          },
          "execution_count": 20
        }
      ]
    },
    {
      "cell_type": "code",
      "metadata": {
        "colab": {
          "base_uri": "https://localhost:8080/",
          "height": 297
        },
        "id": "VcBQQgnYXdMh",
        "outputId": "ae70ed12-18ef-4019-95f7-02c21574b2fd"
      },
      "source": [
        "# checking for basic stats\n",
        "test.describe()"
      ],
      "execution_count": 21,
      "outputs": [
        {
          "output_type": "execute_result",
          "data": {
            "text/html": [
              "<div>\n",
              "<style scoped>\n",
              "    .dataframe tbody tr th:only-of-type {\n",
              "        vertical-align: middle;\n",
              "    }\n",
              "\n",
              "    .dataframe tbody tr th {\n",
              "        vertical-align: top;\n",
              "    }\n",
              "\n",
              "    .dataframe thead th {\n",
              "        text-align: right;\n",
              "    }\n",
              "</style>\n",
              "<table border=\"1\" class=\"dataframe\">\n",
              "  <thead>\n",
              "    <tr style=\"text-align: right;\">\n",
              "      <th></th>\n",
              "      <th>pickup_longitude</th>\n",
              "      <th>pickup_latitude</th>\n",
              "      <th>dropoff_longitude</th>\n",
              "      <th>dropoff_latitude</th>\n",
              "      <th>passenger_count</th>\n",
              "    </tr>\n",
              "  </thead>\n",
              "  <tbody>\n",
              "    <tr>\n",
              "      <th>count</th>\n",
              "      <td>9914.000000</td>\n",
              "      <td>9914.000000</td>\n",
              "      <td>9914.000000</td>\n",
              "      <td>9914.000000</td>\n",
              "      <td>9914.000000</td>\n",
              "    </tr>\n",
              "    <tr>\n",
              "      <th>mean</th>\n",
              "      <td>-73.974722</td>\n",
              "      <td>40.751041</td>\n",
              "      <td>-73.973657</td>\n",
              "      <td>40.751743</td>\n",
              "      <td>1.671273</td>\n",
              "    </tr>\n",
              "    <tr>\n",
              "      <th>std</th>\n",
              "      <td>0.042774</td>\n",
              "      <td>0.033541</td>\n",
              "      <td>0.039072</td>\n",
              "      <td>0.035435</td>\n",
              "      <td>1.278747</td>\n",
              "    </tr>\n",
              "    <tr>\n",
              "      <th>min</th>\n",
              "      <td>-74.252193</td>\n",
              "      <td>40.573143</td>\n",
              "      <td>-74.263242</td>\n",
              "      <td>40.568973</td>\n",
              "      <td>1.000000</td>\n",
              "    </tr>\n",
              "    <tr>\n",
              "      <th>25%</th>\n",
              "      <td>-73.992501</td>\n",
              "      <td>40.736125</td>\n",
              "      <td>-73.991247</td>\n",
              "      <td>40.735254</td>\n",
              "      <td>1.000000</td>\n",
              "    </tr>\n",
              "    <tr>\n",
              "      <th>50%</th>\n",
              "      <td>-73.982326</td>\n",
              "      <td>40.753051</td>\n",
              "      <td>-73.980015</td>\n",
              "      <td>40.754065</td>\n",
              "      <td>1.000000</td>\n",
              "    </tr>\n",
              "    <tr>\n",
              "      <th>75%</th>\n",
              "      <td>-73.968013</td>\n",
              "      <td>40.767113</td>\n",
              "      <td>-73.964059</td>\n",
              "      <td>40.768757</td>\n",
              "      <td>2.000000</td>\n",
              "    </tr>\n",
              "    <tr>\n",
              "      <th>max</th>\n",
              "      <td>-72.986532</td>\n",
              "      <td>41.709555</td>\n",
              "      <td>-72.990963</td>\n",
              "      <td>41.696683</td>\n",
              "      <td>6.000000</td>\n",
              "    </tr>\n",
              "  </tbody>\n",
              "</table>\n",
              "</div>"
            ],
            "text/plain": [
              "       pickup_longitude  pickup_latitude  ...  dropoff_latitude  passenger_count\n",
              "count       9914.000000      9914.000000  ...       9914.000000      9914.000000\n",
              "mean         -73.974722        40.751041  ...         40.751743         1.671273\n",
              "std            0.042774         0.033541  ...          0.035435         1.278747\n",
              "min          -74.252193        40.573143  ...         40.568973         1.000000\n",
              "25%          -73.992501        40.736125  ...         40.735254         1.000000\n",
              "50%          -73.982326        40.753051  ...         40.754065         1.000000\n",
              "75%          -73.968013        40.767113  ...         40.768757         2.000000\n",
              "max          -72.986532        41.709555  ...         41.696683         6.000000\n",
              "\n",
              "[8 rows x 5 columns]"
            ]
          },
          "metadata": {
            "tags": []
          },
          "execution_count": 21
        }
      ]
    },
    {
      "cell_type": "code",
      "metadata": {
        "colab": {
          "base_uri": "https://localhost:8080/"
        },
        "id": "dE-eTTVBXhZ_",
        "outputId": "641b4872-7ede-45f7-ba4e-5af0e92d3b35"
      },
      "source": [
        "min(test.pickup_longitude.min(),test.dropoff_longitude.min()), \\\n",
        "max(test.pickup_longitude.max(),test.dropoff_longitude.max())"
      ],
      "execution_count": 22,
      "outputs": [
        {
          "output_type": "execute_result",
          "data": {
            "text/plain": [
              "(-74.263242, -72.986532)"
            ]
          },
          "metadata": {
            "tags": []
          },
          "execution_count": 22
        }
      ]
    },
    {
      "cell_type": "code",
      "metadata": {
        "colab": {
          "base_uri": "https://localhost:8080/"
        },
        "id": "J78c-g27XkjM",
        "outputId": "a43b3d41-0b8a-4cc0-9dca-5c2787cb3132"
      },
      "source": [
        "min(test.pickup_latitude.min(),test.dropoff_latitude.min()), \\\n",
        "max(test.pickup_latitude.max(),test.dropoff_latitude.max())"
      ],
      "execution_count": 23,
      "outputs": [
        {
          "output_type": "execute_result",
          "data": {
            "text/plain": [
              "(40.568973, 41.709555)"
            ]
          },
          "metadata": {
            "tags": []
          },
          "execution_count": 23
        }
      ]
    },
    {
      "cell_type": "code",
      "metadata": {
        "id": "FAFY4kdDXo8p"
      },
      "source": [
        "# this function will also be used with the test set below\n",
        "def select_within_test_boundary(df, BB):\n",
        "    return (df.pickup_longitude >= BB[0]) & (df.pickup_longitude <= BB[1]) & \\\n",
        "           (df.pickup_latitude >= BB[2]) & (df.pickup_latitude <= BB[3]) & \\\n",
        "           (df.dropoff_longitude >= BB[0]) & (df.dropoff_longitude <= BB[1]) & \\\n",
        "           (df.dropoff_latitude >= BB[2]) & (df.dropoff_latitude <= BB[3])"
      ],
      "execution_count": 24,
      "outputs": []
    },
    {
      "cell_type": "code",
      "metadata": {
        "colab": {
          "base_uri": "https://localhost:8080/"
        },
        "id": "LGhyZtupXr74",
        "outputId": "601a7bed-6a8a-4845-f468-85d33beebaa8"
      },
      "source": [
        "BB = (-74.5, -72.8, 40.5, 41.8)\n",
        "print('Old size: %d' % len(train))\n",
        "train = train[select_within_test_boundary(train, BB)]\n",
        "print('New size: %d' % len(train))"
      ],
      "execution_count": 25,
      "outputs": [
        {
          "output_type": "stream",
          "text": [
            "Old size: 299983\n",
            "New size: 293740\n"
          ],
          "name": "stdout"
        }
      ]
    },
    {
      "cell_type": "markdown",
      "metadata": {
        "id": "sn9Rls4J0XPH"
      },
      "source": [
        "# Time related features"
      ]
    },
    {
      "cell_type": "code",
      "metadata": {
        "id": "EEnCGV4rXwIC"
      },
      "source": [
        "def prepare_time_features(df):\n",
        "    df['pickup_datetime'] = df['pickup_datetime'].str.slice(0, 16)\n",
        "    df['pickup_datetime'] = pd.to_datetime(df['pickup_datetime'], utc=True, format='%Y-%m-%d %H:%M')\n",
        "    df['hour_of_day'] = df.pickup_datetime.dt.hour\n",
        "\n",
        "    df['minutes'] = df.pickup_datetime.dt.strftime(\"%M\")\n",
        "    df['minutes'] = df['minutes'].astype(int)\n",
        "\n",
        "    df['month'] = df.pickup_datetime.dt.month\n",
        "    df[\"year\"] = df.pickup_datetime.dt.year\n",
        "    df[\"weekday\"] = df.pickup_datetime.dt.weekday\n",
        "\n",
        "    \n",
        "    return df"
      ],
      "execution_count": 26,
      "outputs": []
    },
    {
      "cell_type": "code",
      "metadata": {
        "id": "ZmFsUIP5Xzml"
      },
      "source": [
        "train = prepare_time_features(train)\n",
        "test = prepare_time_features(test)"
      ],
      "execution_count": 27,
      "outputs": []
    },
    {
      "cell_type": "code",
      "metadata": {
        "id": "pq0Kkl8bX3Cp"
      },
      "source": [
        "# calculate-distance-between-two-latitude-longitude-points-haversine-formula \n",
        "# Returns distance in miles\n",
        "def distance(lat1, lon1, lat2, lon2):\n",
        "    p = 0.017453292519943295 # Pi/180\n",
        "    a = 0.5 - np.cos((lat2 - lat1) * p)/2 + np.cos(lat1 * p) * np.cos(lat2 * p) * (1 - np.cos((lon2 - lon1) * p)) / 2\n",
        "    return 0.6213712 * 12742 * np.arcsin(np.sqrt(a))   # 2*R*asin..."
      ],
      "execution_count": 28,
      "outputs": []
    },
    {
      "cell_type": "code",
      "metadata": {
        "id": "1oYZbBXFX56O"
      },
      "source": [
        "train['distance_miles'] = distance(train.pickup_latitude, train.pickup_longitude, \\\n",
        "                                      train.dropoff_latitude, train.dropoff_longitude)"
      ],
      "execution_count": 29,
      "outputs": []
    },
    {
      "cell_type": "code",
      "metadata": {
        "id": "b6KlebrvX8ac"
      },
      "source": [
        "test['distance_miles'] = distance(test.pickup_latitude, test.pickup_longitude, \\\n",
        "                                      test.dropoff_latitude, test.dropoff_longitude)"
      ],
      "execution_count": 30,
      "outputs": []
    },
    {
      "cell_type": "code",
      "metadata": {
        "id": "6g6i3HZnYBFH"
      },
      "source": [
        "def transform(data):\n",
        "    # Distances to nearby airports, \n",
        "    jfk = (-73.7781, 40.6413)\n",
        "    ewr = (-74.1745, 40.6895)\n",
        "    lgr = (-73.8740, 40.7769)\n",
        "\n",
        "    data['pickup_distance_to_jfk'] = distance(jfk[1], jfk[0],\n",
        "                                         data['pickup_latitude'], data['pickup_longitude'])\n",
        "    data['dropoff_distance_to_jfk'] = distance(jfk[1], jfk[0],\n",
        "                                           data['dropoff_latitude'], data['dropoff_longitude'])\n",
        "    data['pickup_distance_to_ewr'] = distance(ewr[1], ewr[0], \n",
        "                                          data['pickup_latitude'], data['pickup_longitude'])\n",
        "    data['dropoff_distance_to_ewr'] = distance(ewr[1], ewr[0],\n",
        "                                           data['dropoff_latitude'], data['dropoff_longitude'])\n",
        "    data['pickup_distance_to_lgr'] = distance(lgr[1], lgr[0],\n",
        "                                          data['pickup_latitude'], data['pickup_longitude'])\n",
        "    data['dropoff_distance_to_lgr'] = distance(lgr[1], lgr[0],\n",
        "                                           data['dropoff_latitude'], data['dropoff_longitude'])\n",
        "    \n",
        "    return data\n",
        "\n",
        "train = transform(train)\n",
        "test = transform(test)"
      ],
      "execution_count": 31,
      "outputs": []
    },
    {
      "cell_type": "code",
      "metadata": {
        "colab": {
          "base_uri": "https://localhost:8080/",
          "height": 69
        },
        "id": "kJ3I_DxlYEEv",
        "outputId": "7c1286db-7715-4c29-d1aa-0a524525a5df"
      },
      "source": [
        "train[(train['distance_miles']==0)&(train['fare_amount']==0)]"
      ],
      "execution_count": 32,
      "outputs": [
        {
          "output_type": "execute_result",
          "data": {
            "text/html": [
              "<div>\n",
              "<style scoped>\n",
              "    .dataframe tbody tr th:only-of-type {\n",
              "        vertical-align: middle;\n",
              "    }\n",
              "\n",
              "    .dataframe tbody tr th {\n",
              "        vertical-align: top;\n",
              "    }\n",
              "\n",
              "    .dataframe thead th {\n",
              "        text-align: right;\n",
              "    }\n",
              "</style>\n",
              "<table border=\"1\" class=\"dataframe\">\n",
              "  <thead>\n",
              "    <tr style=\"text-align: right;\">\n",
              "      <th></th>\n",
              "      <th>key</th>\n",
              "      <th>fare_amount</th>\n",
              "      <th>pickup_datetime</th>\n",
              "      <th>pickup_longitude</th>\n",
              "      <th>pickup_latitude</th>\n",
              "      <th>dropoff_longitude</th>\n",
              "      <th>dropoff_latitude</th>\n",
              "      <th>passenger_count</th>\n",
              "      <th>hour_of_day</th>\n",
              "      <th>minutes</th>\n",
              "      <th>month</th>\n",
              "      <th>year</th>\n",
              "      <th>weekday</th>\n",
              "      <th>distance_miles</th>\n",
              "      <th>pickup_distance_to_jfk</th>\n",
              "      <th>dropoff_distance_to_jfk</th>\n",
              "      <th>pickup_distance_to_ewr</th>\n",
              "      <th>dropoff_distance_to_ewr</th>\n",
              "      <th>pickup_distance_to_lgr</th>\n",
              "      <th>dropoff_distance_to_lgr</th>\n",
              "    </tr>\n",
              "  </thead>\n",
              "  <tbody>\n",
              "  </tbody>\n",
              "</table>\n",
              "</div>"
            ],
            "text/plain": [
              "Empty DataFrame\n",
              "Columns: [key, fare_amount, pickup_datetime, pickup_longitude, pickup_latitude, dropoff_longitude, dropoff_latitude, passenger_count, hour_of_day, minutes, month, year, weekday, distance_miles, pickup_distance_to_jfk, dropoff_distance_to_jfk, pickup_distance_to_ewr, dropoff_distance_to_ewr, pickup_distance_to_lgr, dropoff_distance_to_lgr]\n",
              "Index: []"
            ]
          },
          "metadata": {
            "tags": []
          },
          "execution_count": 32
        }
      ]
    },
    {
      "cell_type": "code",
      "metadata": {
        "colab": {
          "base_uri": "https://localhost:8080/"
        },
        "id": "ZdInwkABYIIa",
        "outputId": "0959a285-8445-4a56-a7a1-baeb28bd5b82"
      },
      "source": [
        "print(\"old size: %d\" % len(train))\n",
        "train = train.drop(index= train[(train['distance_miles']==0)&(train['fare_amount']==0)].index, axis=0)\n",
        "print(\"New size: %d\" % len(train))"
      ],
      "execution_count": 33,
      "outputs": [
        {
          "output_type": "stream",
          "text": [
            "old size: 293740\n",
            "New size: 293740\n"
          ],
          "name": "stdout"
        }
      ]
    },
    {
      "cell_type": "code",
      "metadata": {
        "colab": {
          "base_uri": "https://localhost:8080/"
        },
        "id": "dcFcicenYK42",
        "outputId": "d0ccc19e-f292-4b9d-9da5-0e02eda939a8"
      },
      "source": [
        "train[train['fare_amount']==0].shape"
      ],
      "execution_count": 34,
      "outputs": [
        {
          "output_type": "execute_result",
          "data": {
            "text/plain": [
              "(7, 20)"
            ]
          },
          "metadata": {
            "tags": []
          },
          "execution_count": 34
        }
      ]
    },
    {
      "cell_type": "code",
      "metadata": {
        "colab": {
          "base_uri": "https://localhost:8080/"
        },
        "id": "2UgrdsJ3YNu9",
        "outputId": "4a9b42d1-0fc7-4a84-8f8b-be304eee091a"
      },
      "source": [
        "print(\"old size: %d\" % len(train))\n",
        "train = train.drop(index= train[train['fare_amount']==0].index, axis=0)\n",
        "print(\"New size: %d\" % len(train))"
      ],
      "execution_count": 35,
      "outputs": [
        {
          "output_type": "stream",
          "text": [
            "old size: 293740\n",
            "New size: 293733\n"
          ],
          "name": "stdout"
        }
      ]
    },
    {
      "cell_type": "code",
      "metadata": {
        "colab": {
          "base_uri": "https://localhost:8080/"
        },
        "id": "MCYlCvf4YQr7",
        "outputId": "fb5b6e77-c615-44a3-ab3d-77cc6f50c5fb"
      },
      "source": [
        "train[train['fare_amount'] < 2.5].shape"
      ],
      "execution_count": 36,
      "outputs": [
        {
          "output_type": "execute_result",
          "data": {
            "text/plain": [
              "(5, 20)"
            ]
          },
          "metadata": {
            "tags": []
          },
          "execution_count": 36
        }
      ]
    },
    {
      "cell_type": "code",
      "metadata": {
        "colab": {
          "base_uri": "https://localhost:8080/"
        },
        "id": "BiAWvmSbYTRa",
        "outputId": "f7e349f9-6573-49a2-d718-e36c391db768"
      },
      "source": [
        "print(\"old size: %d\" % len(train))\n",
        "train = train.drop(index= train[train['fare_amount'] < 2.5].index, axis=0)\n",
        "print(\"New size: %d\" % len(train))"
      ],
      "execution_count": 37,
      "outputs": [
        {
          "output_type": "stream",
          "text": [
            "old size: 293733\n",
            "New size: 293728\n"
          ],
          "name": "stdout"
        }
      ]
    },
    {
      "cell_type": "code",
      "metadata": {
        "colab": {
          "base_uri": "https://localhost:8080/",
          "height": 69
        },
        "id": "3xpzQT08YWeM",
        "outputId": "f1953336-74d2-4df0-f758-7aa84d37f2a2"
      },
      "source": [
        "train[train.passenger_count >= 7]"
      ],
      "execution_count": 38,
      "outputs": [
        {
          "output_type": "execute_result",
          "data": {
            "text/html": [
              "<div>\n",
              "<style scoped>\n",
              "    .dataframe tbody tr th:only-of-type {\n",
              "        vertical-align: middle;\n",
              "    }\n",
              "\n",
              "    .dataframe tbody tr th {\n",
              "        vertical-align: top;\n",
              "    }\n",
              "\n",
              "    .dataframe thead th {\n",
              "        text-align: right;\n",
              "    }\n",
              "</style>\n",
              "<table border=\"1\" class=\"dataframe\">\n",
              "  <thead>\n",
              "    <tr style=\"text-align: right;\">\n",
              "      <th></th>\n",
              "      <th>key</th>\n",
              "      <th>fare_amount</th>\n",
              "      <th>pickup_datetime</th>\n",
              "      <th>pickup_longitude</th>\n",
              "      <th>pickup_latitude</th>\n",
              "      <th>dropoff_longitude</th>\n",
              "      <th>dropoff_latitude</th>\n",
              "      <th>passenger_count</th>\n",
              "      <th>hour_of_day</th>\n",
              "      <th>minutes</th>\n",
              "      <th>month</th>\n",
              "      <th>year</th>\n",
              "      <th>weekday</th>\n",
              "      <th>distance_miles</th>\n",
              "      <th>pickup_distance_to_jfk</th>\n",
              "      <th>dropoff_distance_to_jfk</th>\n",
              "      <th>pickup_distance_to_ewr</th>\n",
              "      <th>dropoff_distance_to_ewr</th>\n",
              "      <th>pickup_distance_to_lgr</th>\n",
              "      <th>dropoff_distance_to_lgr</th>\n",
              "    </tr>\n",
              "  </thead>\n",
              "  <tbody>\n",
              "  </tbody>\n",
              "</table>\n",
              "</div>"
            ],
            "text/plain": [
              "Empty DataFrame\n",
              "Columns: [key, fare_amount, pickup_datetime, pickup_longitude, pickup_latitude, dropoff_longitude, dropoff_latitude, passenger_count, hour_of_day, minutes, month, year, weekday, distance_miles, pickup_distance_to_jfk, dropoff_distance_to_jfk, pickup_distance_to_ewr, dropoff_distance_to_ewr, pickup_distance_to_lgr, dropoff_distance_to_lgr]\n",
              "Index: []"
            ]
          },
          "metadata": {
            "tags": []
          },
          "execution_count": 38
        }
      ]
    },
    {
      "cell_type": "code",
      "metadata": {
        "colab": {
          "base_uri": "https://localhost:8080/"
        },
        "id": "7kqtceIQYaLT",
        "outputId": "84ab2c37-6937-4a4b-eadd-34c1b7dc9c27"
      },
      "source": [
        "print(\"old size: %d\" % len(train))\n",
        "train = train.drop(index= train[train.passenger_count >= 7].index, axis=0)\n",
        "print(\"New size: %d\" % len(train))"
      ],
      "execution_count": 39,
      "outputs": [
        {
          "output_type": "stream",
          "text": [
            "old size: 293728\n",
            "New size: 293728\n"
          ],
          "name": "stdout"
        }
      ]
    },
    {
      "cell_type": "code",
      "metadata": {
        "colab": {
          "base_uri": "https://localhost:8080/",
          "height": 607
        },
        "id": "HdMxp1J0Yh8_",
        "outputId": "510f42f9-c8f7-496d-82ad-5066fb487779"
      },
      "source": [
        "train.describe().T"
      ],
      "execution_count": 40,
      "outputs": [
        {
          "output_type": "execute_result",
          "data": {
            "text/html": [
              "<div>\n",
              "<style scoped>\n",
              "    .dataframe tbody tr th:only-of-type {\n",
              "        vertical-align: middle;\n",
              "    }\n",
              "\n",
              "    .dataframe tbody tr th {\n",
              "        vertical-align: top;\n",
              "    }\n",
              "\n",
              "    .dataframe thead th {\n",
              "        text-align: right;\n",
              "    }\n",
              "</style>\n",
              "<table border=\"1\" class=\"dataframe\">\n",
              "  <thead>\n",
              "    <tr style=\"text-align: right;\">\n",
              "      <th></th>\n",
              "      <th>count</th>\n",
              "      <th>mean</th>\n",
              "      <th>std</th>\n",
              "      <th>min</th>\n",
              "      <th>25%</th>\n",
              "      <th>50%</th>\n",
              "      <th>75%</th>\n",
              "      <th>max</th>\n",
              "    </tr>\n",
              "  </thead>\n",
              "  <tbody>\n",
              "    <tr>\n",
              "      <th>fare_amount</th>\n",
              "      <td>293728.0</td>\n",
              "      <td>11.342089</td>\n",
              "      <td>9.807051</td>\n",
              "      <td>2.500000</td>\n",
              "      <td>6.000000</td>\n",
              "      <td>8.500000</td>\n",
              "      <td>12.500000</td>\n",
              "      <td>500.000000</td>\n",
              "    </tr>\n",
              "    <tr>\n",
              "      <th>pickup_longitude</th>\n",
              "      <td>293728.0</td>\n",
              "      <td>-73.975076</td>\n",
              "      <td>0.038686</td>\n",
              "      <td>-74.438233</td>\n",
              "      <td>-73.992265</td>\n",
              "      <td>-73.982055</td>\n",
              "      <td>-73.968325</td>\n",
              "      <td>-72.856968</td>\n",
              "    </tr>\n",
              "    <tr>\n",
              "      <th>pickup_latitude</th>\n",
              "      <td>293728.0</td>\n",
              "      <td>40.751116</td>\n",
              "      <td>0.029722</td>\n",
              "      <td>40.500046</td>\n",
              "      <td>40.736616</td>\n",
              "      <td>40.753470</td>\n",
              "      <td>40.767521</td>\n",
              "      <td>41.692428</td>\n",
              "    </tr>\n",
              "    <tr>\n",
              "      <th>dropoff_longitude</th>\n",
              "      <td>293728.0</td>\n",
              "      <td>-73.974077</td>\n",
              "      <td>0.038099</td>\n",
              "      <td>-74.474595</td>\n",
              "      <td>-73.991530</td>\n",
              "      <td>-73.980558</td>\n",
              "      <td>-73.965233</td>\n",
              "      <td>-72.854940</td>\n",
              "    </tr>\n",
              "    <tr>\n",
              "      <th>dropoff_latitude</th>\n",
              "      <td>293728.0</td>\n",
              "      <td>40.751466</td>\n",
              "      <td>0.032884</td>\n",
              "      <td>40.500046</td>\n",
              "      <td>40.735621</td>\n",
              "      <td>40.753922</td>\n",
              "      <td>40.768390</td>\n",
              "      <td>41.714633</td>\n",
              "    </tr>\n",
              "    <tr>\n",
              "      <th>passenger_count</th>\n",
              "      <td>293728.0</td>\n",
              "      <td>1.684896</td>\n",
              "      <td>1.309298</td>\n",
              "      <td>0.000000</td>\n",
              "      <td>1.000000</td>\n",
              "      <td>1.000000</td>\n",
              "      <td>2.000000</td>\n",
              "      <td>6.000000</td>\n",
              "    </tr>\n",
              "    <tr>\n",
              "      <th>hour_of_day</th>\n",
              "      <td>293728.0</td>\n",
              "      <td>13.510949</td>\n",
              "      <td>6.505785</td>\n",
              "      <td>0.000000</td>\n",
              "      <td>9.000000</td>\n",
              "      <td>14.000000</td>\n",
              "      <td>19.000000</td>\n",
              "      <td>23.000000</td>\n",
              "    </tr>\n",
              "    <tr>\n",
              "      <th>minutes</th>\n",
              "      <td>293728.0</td>\n",
              "      <td>29.535220</td>\n",
              "      <td>17.328401</td>\n",
              "      <td>0.000000</td>\n",
              "      <td>14.000000</td>\n",
              "      <td>30.000000</td>\n",
              "      <td>45.000000</td>\n",
              "      <td>59.000000</td>\n",
              "    </tr>\n",
              "    <tr>\n",
              "      <th>month</th>\n",
              "      <td>293728.0</td>\n",
              "      <td>6.274247</td>\n",
              "      <td>3.442156</td>\n",
              "      <td>1.000000</td>\n",
              "      <td>3.000000</td>\n",
              "      <td>6.000000</td>\n",
              "      <td>9.000000</td>\n",
              "      <td>12.000000</td>\n",
              "    </tr>\n",
              "    <tr>\n",
              "      <th>year</th>\n",
              "      <td>293728.0</td>\n",
              "      <td>2011.738568</td>\n",
              "      <td>1.863640</td>\n",
              "      <td>2009.000000</td>\n",
              "      <td>2010.000000</td>\n",
              "      <td>2012.000000</td>\n",
              "      <td>2013.000000</td>\n",
              "      <td>2015.000000</td>\n",
              "    </tr>\n",
              "    <tr>\n",
              "      <th>weekday</th>\n",
              "      <td>293728.0</td>\n",
              "      <td>3.041215</td>\n",
              "      <td>1.949232</td>\n",
              "      <td>0.000000</td>\n",
              "      <td>1.000000</td>\n",
              "      <td>3.000000</td>\n",
              "      <td>5.000000</td>\n",
              "      <td>6.000000</td>\n",
              "    </tr>\n",
              "    <tr>\n",
              "      <th>distance_miles</th>\n",
              "      <td>293728.0</td>\n",
              "      <td>2.072091</td>\n",
              "      <td>2.360737</td>\n",
              "      <td>0.000000</td>\n",
              "      <td>0.780407</td>\n",
              "      <td>1.340210</td>\n",
              "      <td>2.436693</td>\n",
              "      <td>68.868482</td>\n",
              "    </tr>\n",
              "    <tr>\n",
              "      <th>pickup_distance_to_jfk</th>\n",
              "      <td>293728.0</td>\n",
              "      <td>12.968625</td>\n",
              "      <td>2.044913</td>\n",
              "      <td>0.133527</td>\n",
              "      <td>12.778776</td>\n",
              "      <td>13.167309</td>\n",
              "      <td>13.599941</td>\n",
              "      <td>78.602440</td>\n",
              "    </tr>\n",
              "    <tr>\n",
              "      <th>dropoff_distance_to_jfk</th>\n",
              "      <td>293728.0</td>\n",
              "      <td>12.993300</td>\n",
              "      <td>1.911568</td>\n",
              "      <td>0.232948</td>\n",
              "      <td>12.757035</td>\n",
              "      <td>13.165803</td>\n",
              "      <td>13.615687</td>\n",
              "      <td>79.697023</td>\n",
              "    </tr>\n",
              "    <tr>\n",
              "      <th>pickup_distance_to_ewr</th>\n",
              "      <td>293728.0</td>\n",
              "      <td>11.406612</td>\n",
              "      <td>2.320649</td>\n",
              "      <td>0.172094</td>\n",
              "      <td>10.173056</td>\n",
              "      <td>11.078457</td>\n",
              "      <td>12.097045</td>\n",
              "      <td>71.468468</td>\n",
              "    </tr>\n",
              "    <tr>\n",
              "      <th>dropoff_distance_to_ewr</th>\n",
              "      <td>293728.0</td>\n",
              "      <td>11.497794</td>\n",
              "      <td>2.327763</td>\n",
              "      <td>0.172094</td>\n",
              "      <td>10.251630</td>\n",
              "      <td>11.174200</td>\n",
              "      <td>12.307370</td>\n",
              "      <td>71.468468</td>\n",
              "    </tr>\n",
              "    <tr>\n",
              "      <th>pickup_distance_to_lgr</th>\n",
              "      <td>293728.0</td>\n",
              "      <td>6.006459</td>\n",
              "      <td>1.840495</td>\n",
              "      <td>0.147922</td>\n",
              "      <td>5.207465</td>\n",
              "      <td>5.969967</td>\n",
              "      <td>6.844550</td>\n",
              "      <td>68.036300</td>\n",
              "    </tr>\n",
              "    <tr>\n",
              "      <th>dropoff_distance_to_lgr</th>\n",
              "      <td>293728.0</td>\n",
              "      <td>6.014383</td>\n",
              "      <td>1.865425</td>\n",
              "      <td>0.087890</td>\n",
              "      <td>5.171278</td>\n",
              "      <td>5.914483</td>\n",
              "      <td>6.823405</td>\n",
              "      <td>69.154424</td>\n",
              "    </tr>\n",
              "  </tbody>\n",
              "</table>\n",
              "</div>"
            ],
            "text/plain": [
              "                            count         mean  ...          75%          max\n",
              "fare_amount              293728.0    11.342089  ...    12.500000   500.000000\n",
              "pickup_longitude         293728.0   -73.975076  ...   -73.968325   -72.856968\n",
              "pickup_latitude          293728.0    40.751116  ...    40.767521    41.692428\n",
              "dropoff_longitude        293728.0   -73.974077  ...   -73.965233   -72.854940\n",
              "dropoff_latitude         293728.0    40.751466  ...    40.768390    41.714633\n",
              "passenger_count          293728.0     1.684896  ...     2.000000     6.000000\n",
              "hour_of_day              293728.0    13.510949  ...    19.000000    23.000000\n",
              "minutes                  293728.0    29.535220  ...    45.000000    59.000000\n",
              "month                    293728.0     6.274247  ...     9.000000    12.000000\n",
              "year                     293728.0  2011.738568  ...  2013.000000  2015.000000\n",
              "weekday                  293728.0     3.041215  ...     5.000000     6.000000\n",
              "distance_miles           293728.0     2.072091  ...     2.436693    68.868482\n",
              "pickup_distance_to_jfk   293728.0    12.968625  ...    13.599941    78.602440\n",
              "dropoff_distance_to_jfk  293728.0    12.993300  ...    13.615687    79.697023\n",
              "pickup_distance_to_ewr   293728.0    11.406612  ...    12.097045    71.468468\n",
              "dropoff_distance_to_ewr  293728.0    11.497794  ...    12.307370    71.468468\n",
              "pickup_distance_to_lgr   293728.0     6.006459  ...     6.844550    68.036300\n",
              "dropoff_distance_to_lgr  293728.0     6.014383  ...     6.823405    69.154424\n",
              "\n",
              "[18 rows x 8 columns]"
            ]
          },
          "metadata": {
            "tags": []
          },
          "execution_count": 40
        }
      ]
    },
    {
      "cell_type": "code",
      "metadata": {
        "colab": {
          "base_uri": "https://localhost:8080/"
        },
        "id": "uJLkQMNbYpeC",
        "outputId": "994e1c8c-cf35-47cb-fff8-c4c2daf7d3ba"
      },
      "source": [
        "#train data set\n",
        "pd.cut(train['distance_miles'],np.linspace(0, 70, num = 8)).value_counts()"
      ],
      "execution_count": 41,
      "outputs": [
        {
          "output_type": "execute_result",
          "data": {
            "text/plain": [
              "(0.0, 10.0]     284491\n",
              "(10.0, 20.0]      6004\n",
              "(20.0, 30.0]        43\n",
              "(60.0, 70.0]        34\n",
              "(50.0, 60.0]        18\n",
              "(30.0, 40.0]         6\n",
              "(40.0, 50.0]         2\n",
              "Name: distance_miles, dtype: int64"
            ]
          },
          "metadata": {
            "tags": []
          },
          "execution_count": 41
        }
      ]
    },
    {
      "cell_type": "code",
      "metadata": {
        "colab": {
          "base_uri": "https://localhost:8080/"
        },
        "id": "0nl9d_eqY0S9",
        "outputId": "f2cecc6e-a90a-4bad-9895-59de9f8776bf"
      },
      "source": [
        "# test data set\n",
        "pd.cut(test['distance_miles'],np.linspace(0, 70, num = 8)).value_counts()"
      ],
      "execution_count": 42,
      "outputs": [
        {
          "output_type": "execute_result",
          "data": {
            "text/plain": [
              "(0.0, 10.0]     9611\n",
              "(10.0, 20.0]     214\n",
              "(60.0, 70.0]       3\n",
              "(20.0, 30.0]       1\n",
              "(50.0, 60.0]       0\n",
              "(40.0, 50.0]       0\n",
              "(30.0, 40.0]       0\n",
              "Name: distance_miles, dtype: int64"
            ]
          },
          "metadata": {
            "tags": []
          },
          "execution_count": 42
        }
      ]
    },
    {
      "cell_type": "code",
      "metadata": {
        "colab": {
          "base_uri": "https://localhost:8080/"
        },
        "id": "zCPMYw-ZY4DT",
        "outputId": "dc773b6d-e105-4c1f-9c05-31292c6a7422"
      },
      "source": [
        "# we will deal with it later \n",
        "fare_100 = train[train.fare_amount > 100]\n",
        "fare_100.shape"
      ],
      "execution_count": 43,
      "outputs": [
        {
          "output_type": "execute_result",
          "data": {
            "text/plain": [
              "(114, 20)"
            ]
          },
          "metadata": {
            "tags": []
          },
          "execution_count": 43
        }
      ]
    },
    {
      "cell_type": "code",
      "metadata": {
        "colab": {
          "base_uri": "https://localhost:8080/"
        },
        "id": "E5Rkf7T5ZCrR",
        "outputId": "3fcfb373-1193-49f4-d9b2-20d6892a68b7"
      },
      "source": [
        "fare_100[fare_100.distance_miles <1].shape"
      ],
      "execution_count": 44,
      "outputs": [
        {
          "output_type": "execute_result",
          "data": {
            "text/plain": [
              "(45, 20)"
            ]
          },
          "metadata": {
            "tags": []
          },
          "execution_count": 44
        }
      ]
    },
    {
      "cell_type": "code",
      "metadata": {
        "colab": {
          "base_uri": "https://localhost:8080/"
        },
        "id": "gFDaEF9ZZH7D",
        "outputId": "ebe3965c-e4af-4fb3-f3ed-7a3bfba09af1"
      },
      "source": [
        "train.columns"
      ],
      "execution_count": 45,
      "outputs": [
        {
          "output_type": "execute_result",
          "data": {
            "text/plain": [
              "Index(['key', 'fare_amount', 'pickup_datetime', 'pickup_longitude',\n",
              "       'pickup_latitude', 'dropoff_longitude', 'dropoff_latitude',\n",
              "       'passenger_count', 'hour_of_day', 'minutes', 'month', 'year', 'weekday',\n",
              "       'distance_miles', 'pickup_distance_to_jfk', 'dropoff_distance_to_jfk',\n",
              "       'pickup_distance_to_ewr', 'dropoff_distance_to_ewr',\n",
              "       'pickup_distance_to_lgr', 'dropoff_distance_to_lgr'],\n",
              "      dtype='object')"
            ]
          },
          "metadata": {
            "tags": []
          },
          "execution_count": 45
        }
      ]
    },
    {
      "cell_type": "code",
      "metadata": {
        "colab": {
          "base_uri": "https://localhost:8080/"
        },
        "id": "ZcV18SrEZNo8",
        "outputId": "3882e15c-1adc-47d3-c132-82171f064739"
      },
      "source": [
        "# create copy of the data set\n",
        "df_train = train.drop(columns= ['key','pickup_datetime'], axis= 1).copy()\n",
        "df_test = test.drop(columns= ['key','pickup_datetime'], axis= 1).copy()\n",
        "print(df_train.shape)\n",
        "print(df_test.shape)"
      ],
      "execution_count": 46,
      "outputs": [
        {
          "output_type": "stream",
          "text": [
            "(293728, 18)\n",
            "(9914, 17)\n"
          ],
          "name": "stdout"
        }
      ]
    },
    {
      "cell_type": "code",
      "metadata": {
        "colab": {
          "base_uri": "https://localhost:8080/"
        },
        "id": "vs61fR25ZQcN",
        "outputId": "34ef45aa-06d6-4ec4-a288-883d3a5ac888"
      },
      "source": [
        "from sklearn.model_selection import train_test_split \n",
        "X_train, X_test, y_train, y_test = train_test_split(df_train.drop('fare_amount', axis=1),\n",
        "                                                    df_train['fare_amount'], test_size=0.2, random_state = 42)\n",
        "print(X_train.shape)\n",
        "print(X_test.shape)\n",
        "print(y_train.shape)\n",
        "print(y_test.shape)"
      ],
      "execution_count": 47,
      "outputs": [
        {
          "output_type": "stream",
          "text": [
            "(234982, 17)\n",
            "(58746, 17)\n",
            "(234982,)\n",
            "(58746,)\n"
          ],
          "name": "stdout"
        }
      ]
    },
    {
      "cell_type": "code",
      "metadata": {
        "id": "c2exREMHZdL2"
      },
      "source": [
        "import xgboost as xgb"
      ],
      "execution_count": 48,
      "outputs": []
    },
    {
      "cell_type": "code",
      "metadata": {
        "id": "CVjXX9AIZgZ0"
      },
      "source": [
        "#params = {\n",
        "#   \n",
        "#    'max_depth': 7,\n",
        "#    'gamma' :0,\n",
        "#    'eta':.03, \n",
        "#    'subsample': 1,\n",
        "#    'colsample_bytree': 0.9, \n",
        "#    'objective':'reg:linear',\n",
        "#    'eval_metric':'rmse',\n",
        "#    'silent': 0\n",
        "#}"
      ],
      "execution_count": 49,
      "outputs": []
    },
    {
      "cell_type": "markdown",
      "metadata": {
        "id": "inX8PgkB0dvB"
      },
      "source": [
        "# XGBoost Model Tuning"
      ]
    },
    {
      "cell_type": "code",
      "metadata": {
        "id": "kt79iPw-LIHk"
      },
      "source": [
        "\n",
        "\n",
        "params = {\n",
        "   \n",
        "    'max_depth': 8,\n",
        "    'gamma' :0,\n",
        "    'eta':.03, \n",
        "    'subsample': 1,\n",
        "    'colsample_bytree': 0.7, \n",
        "    'objective':'reg:linear',\n",
        "    'eval_metric':'rmse',\n",
        "    'silent': 0\n",
        "}\n",
        "\n",
        "#"
      ],
      "execution_count": 50,
      "outputs": []
    },
    {
      "cell_type": "code",
      "metadata": {
        "colab": {
          "base_uri": "https://localhost:8080/"
        },
        "id": "AIpOUG_gZjhD",
        "outputId": "d58f05fd-cd27-478d-bf9a-d05a844df58a"
      },
      "source": [
        "def XGBmodel(X_train,X_test,y_train,y_test,params):\n",
        "    matrix_train = xgb.DMatrix(X_train,label=y_train)\n",
        "    matrix_test = xgb.DMatrix(X_test,label=y_test)\n",
        "    model=xgb.train(params=params,\n",
        "                    dtrain=matrix_train,num_boost_round=7000, \n",
        "                    early_stopping_rounds=10,evals=[(matrix_test,'test')])\n",
        "    return model\n",
        "\n",
        "model = XGBmodel(X_train,X_test,y_train,y_test,params)"
      ],
      "execution_count": 51,
      "outputs": [
        {
          "output_type": "stream",
          "text": [
            "[06:22:28] WARNING: /workspace/src/objective/regression_obj.cu:152: reg:linear is now deprecated in favor of reg:squarederror.\n",
            "[0]\ttest-rmse:14.3431\n",
            "Will train until test-rmse hasn't improved in 10 rounds.\n",
            "[1]\ttest-rmse:13.9644\n",
            "[2]\ttest-rmse:13.5991\n",
            "[3]\ttest-rmse:13.2622\n",
            "[4]\ttest-rmse:12.9376\n",
            "[5]\ttest-rmse:12.6051\n",
            "[6]\ttest-rmse:12.303\n",
            "[7]\ttest-rmse:12.0107\n",
            "[8]\ttest-rmse:11.7111\n",
            "[9]\ttest-rmse:11.4403\n",
            "[10]\ttest-rmse:11.1583\n",
            "[11]\ttest-rmse:10.8859\n",
            "[12]\ttest-rmse:10.6401\n",
            "[13]\ttest-rmse:10.3871\n",
            "[14]\ttest-rmse:10.1587\n",
            "[15]\ttest-rmse:9.92293\n",
            "[16]\ttest-rmse:9.69398\n",
            "[17]\ttest-rmse:9.47684\n",
            "[18]\ttest-rmse:9.26587\n",
            "[19]\ttest-rmse:9.08048\n",
            "[20]\ttest-rmse:8.89777\n",
            "[21]\ttest-rmse:8.70515\n",
            "[22]\ttest-rmse:8.51939\n",
            "[23]\ttest-rmse:8.35671\n",
            "[24]\ttest-rmse:8.18569\n",
            "[25]\ttest-rmse:8.03505\n",
            "[26]\ttest-rmse:7.87718\n",
            "[27]\ttest-rmse:7.72489\n",
            "[28]\ttest-rmse:7.57556\n",
            "[29]\ttest-rmse:7.43503\n",
            "[30]\ttest-rmse:7.31235\n",
            "[31]\ttest-rmse:7.19437\n",
            "[32]\ttest-rmse:7.06862\n",
            "[33]\ttest-rmse:6.94541\n",
            "[34]\ttest-rmse:6.84099\n",
            "[35]\ttest-rmse:6.73883\n",
            "[36]\ttest-rmse:6.63099\n",
            "[37]\ttest-rmse:6.52621\n",
            "[38]\ttest-rmse:6.42647\n",
            "[39]\ttest-rmse:6.33951\n",
            "[40]\ttest-rmse:6.25917\n",
            "[41]\ttest-rmse:6.16949\n",
            "[42]\ttest-rmse:6.08557\n",
            "[43]\ttest-rmse:6.00575\n",
            "[44]\ttest-rmse:5.92778\n",
            "[45]\ttest-rmse:5.85429\n",
            "[46]\ttest-rmse:5.78291\n",
            "[47]\ttest-rmse:5.7152\n",
            "[48]\ttest-rmse:5.65124\n",
            "[49]\ttest-rmse:5.59581\n",
            "[50]\ttest-rmse:5.53783\n",
            "[51]\ttest-rmse:5.48068\n",
            "[52]\ttest-rmse:5.42667\n",
            "[53]\ttest-rmse:5.37602\n",
            "[54]\ttest-rmse:5.32772\n",
            "[55]\ttest-rmse:5.2809\n",
            "[56]\ttest-rmse:5.24125\n",
            "[57]\ttest-rmse:5.20417\n",
            "[58]\ttest-rmse:5.17035\n",
            "[59]\ttest-rmse:5.13051\n",
            "[60]\ttest-rmse:5.09414\n",
            "[61]\ttest-rmse:5.05747\n",
            "[62]\ttest-rmse:5.02865\n",
            "[63]\ttest-rmse:5.00146\n",
            "[64]\ttest-rmse:4.96859\n",
            "[65]\ttest-rmse:4.94244\n",
            "[66]\ttest-rmse:4.91364\n",
            "[67]\ttest-rmse:4.8857\n",
            "[68]\ttest-rmse:4.85946\n",
            "[69]\ttest-rmse:4.83546\n",
            "[70]\ttest-rmse:4.81168\n",
            "[71]\ttest-rmse:4.78909\n",
            "[72]\ttest-rmse:4.76608\n",
            "[73]\ttest-rmse:4.74559\n",
            "[74]\ttest-rmse:4.72548\n",
            "[75]\ttest-rmse:4.70663\n",
            "[76]\ttest-rmse:4.6888\n",
            "[77]\ttest-rmse:4.67281\n",
            "[78]\ttest-rmse:4.6559\n",
            "[79]\ttest-rmse:4.64057\n",
            "[80]\ttest-rmse:4.62595\n",
            "[81]\ttest-rmse:4.61299\n",
            "[82]\ttest-rmse:4.60067\n",
            "[83]\ttest-rmse:4.58802\n",
            "[84]\ttest-rmse:4.5753\n",
            "[85]\ttest-rmse:4.56284\n",
            "[86]\ttest-rmse:4.55282\n",
            "[87]\ttest-rmse:4.54085\n",
            "[88]\ttest-rmse:4.53072\n",
            "[89]\ttest-rmse:4.52109\n",
            "[90]\ttest-rmse:4.51232\n",
            "[91]\ttest-rmse:4.50348\n",
            "[92]\ttest-rmse:4.49557\n",
            "[93]\ttest-rmse:4.4865\n",
            "[94]\ttest-rmse:4.47898\n",
            "[95]\ttest-rmse:4.47228\n",
            "[96]\ttest-rmse:4.46588\n",
            "[97]\ttest-rmse:4.45927\n",
            "[98]\ttest-rmse:4.4534\n",
            "[99]\ttest-rmse:4.44722\n",
            "[100]\ttest-rmse:4.44172\n",
            "[101]\ttest-rmse:4.43637\n",
            "[102]\ttest-rmse:4.4317\n",
            "[103]\ttest-rmse:4.42707\n",
            "[104]\ttest-rmse:4.42165\n",
            "[105]\ttest-rmse:4.41787\n",
            "[106]\ttest-rmse:4.41272\n",
            "[107]\ttest-rmse:4.40784\n",
            "[108]\ttest-rmse:4.40256\n",
            "[109]\ttest-rmse:4.39859\n",
            "[110]\ttest-rmse:4.39454\n",
            "[111]\ttest-rmse:4.39196\n",
            "[112]\ttest-rmse:4.38903\n",
            "[113]\ttest-rmse:4.38702\n",
            "[114]\ttest-rmse:4.38251\n",
            "[115]\ttest-rmse:4.3788\n",
            "[116]\ttest-rmse:4.37543\n",
            "[117]\ttest-rmse:4.3723\n",
            "[118]\ttest-rmse:4.36906\n",
            "[119]\ttest-rmse:4.36724\n",
            "[120]\ttest-rmse:4.36441\n",
            "[121]\ttest-rmse:4.36145\n",
            "[122]\ttest-rmse:4.35809\n",
            "[123]\ttest-rmse:4.35567\n",
            "[124]\ttest-rmse:4.35245\n",
            "[125]\ttest-rmse:4.35116\n",
            "[126]\ttest-rmse:4.34868\n",
            "[127]\ttest-rmse:4.34679\n",
            "[128]\ttest-rmse:4.34434\n",
            "[129]\ttest-rmse:4.34322\n",
            "[130]\ttest-rmse:4.34122\n",
            "[131]\ttest-rmse:4.33884\n",
            "[132]\ttest-rmse:4.33633\n",
            "[133]\ttest-rmse:4.33518\n",
            "[134]\ttest-rmse:4.33337\n",
            "[135]\ttest-rmse:4.33151\n",
            "[136]\ttest-rmse:4.32932\n",
            "[137]\ttest-rmse:4.32747\n",
            "[138]\ttest-rmse:4.32617\n",
            "[139]\ttest-rmse:4.32476\n",
            "[140]\ttest-rmse:4.32208\n",
            "[141]\ttest-rmse:4.32049\n",
            "[142]\ttest-rmse:4.31848\n",
            "[143]\ttest-rmse:4.31701\n",
            "[144]\ttest-rmse:4.31508\n",
            "[145]\ttest-rmse:4.31347\n",
            "[146]\ttest-rmse:4.31213\n",
            "[147]\ttest-rmse:4.31157\n",
            "[148]\ttest-rmse:4.31029\n",
            "[149]\ttest-rmse:4.30966\n",
            "[150]\ttest-rmse:4.30872\n",
            "[151]\ttest-rmse:4.30747\n",
            "[152]\ttest-rmse:4.30668\n",
            "[153]\ttest-rmse:4.30525\n",
            "[154]\ttest-rmse:4.30369\n",
            "[155]\ttest-rmse:4.30224\n",
            "[156]\ttest-rmse:4.30085\n",
            "[157]\ttest-rmse:4.30003\n",
            "[158]\ttest-rmse:4.29874\n",
            "[159]\ttest-rmse:4.29771\n",
            "[160]\ttest-rmse:4.29682\n",
            "[161]\ttest-rmse:4.296\n",
            "[162]\ttest-rmse:4.29554\n",
            "[163]\ttest-rmse:4.29458\n",
            "[164]\ttest-rmse:4.29412\n",
            "[165]\ttest-rmse:4.29368\n",
            "[166]\ttest-rmse:4.29346\n",
            "[167]\ttest-rmse:4.29237\n",
            "[168]\ttest-rmse:4.29149\n",
            "[169]\ttest-rmse:4.29089\n",
            "[170]\ttest-rmse:4.29063\n",
            "[171]\ttest-rmse:4.29056\n",
            "[172]\ttest-rmse:4.28965\n",
            "[173]\ttest-rmse:4.28927\n",
            "[174]\ttest-rmse:4.28885\n",
            "[175]\ttest-rmse:4.28834\n",
            "[176]\ttest-rmse:4.28772\n",
            "[177]\ttest-rmse:4.28734\n",
            "[178]\ttest-rmse:4.28551\n",
            "[179]\ttest-rmse:4.28503\n",
            "[180]\ttest-rmse:4.28456\n",
            "[181]\ttest-rmse:4.28418\n",
            "[182]\ttest-rmse:4.28339\n",
            "[183]\ttest-rmse:4.28302\n",
            "[184]\ttest-rmse:4.28259\n",
            "[185]\ttest-rmse:4.28187\n",
            "[186]\ttest-rmse:4.28093\n",
            "[187]\ttest-rmse:4.28024\n",
            "[188]\ttest-rmse:4.27951\n",
            "[189]\ttest-rmse:4.27939\n",
            "[190]\ttest-rmse:4.27861\n",
            "[191]\ttest-rmse:4.27812\n",
            "[192]\ttest-rmse:4.27742\n",
            "[193]\ttest-rmse:4.27697\n",
            "[194]\ttest-rmse:4.27661\n",
            "[195]\ttest-rmse:4.27603\n",
            "[196]\ttest-rmse:4.2754\n",
            "[197]\ttest-rmse:4.27441\n",
            "[198]\ttest-rmse:4.27406\n",
            "[199]\ttest-rmse:4.27377\n",
            "[200]\ttest-rmse:4.27332\n",
            "[201]\ttest-rmse:4.27237\n",
            "[202]\ttest-rmse:4.27137\n",
            "[203]\ttest-rmse:4.27138\n",
            "[204]\ttest-rmse:4.27098\n",
            "[205]\ttest-rmse:4.2706\n",
            "[206]\ttest-rmse:4.27029\n",
            "[207]\ttest-rmse:4.27001\n",
            "[208]\ttest-rmse:4.26924\n",
            "[209]\ttest-rmse:4.26887\n",
            "[210]\ttest-rmse:4.26832\n",
            "[211]\ttest-rmse:4.26779\n",
            "[212]\ttest-rmse:4.26752\n",
            "[213]\ttest-rmse:4.26688\n",
            "[214]\ttest-rmse:4.26663\n",
            "[215]\ttest-rmse:4.26611\n",
            "[216]\ttest-rmse:4.26542\n",
            "[217]\ttest-rmse:4.26492\n",
            "[218]\ttest-rmse:4.26495\n",
            "[219]\ttest-rmse:4.2645\n",
            "[220]\ttest-rmse:4.26434\n",
            "[221]\ttest-rmse:4.26366\n",
            "[222]\ttest-rmse:4.26343\n",
            "[223]\ttest-rmse:4.26346\n",
            "[224]\ttest-rmse:4.26294\n",
            "[225]\ttest-rmse:4.26142\n",
            "[226]\ttest-rmse:4.2611\n",
            "[227]\ttest-rmse:4.26039\n",
            "[228]\ttest-rmse:4.26066\n",
            "[229]\ttest-rmse:4.26014\n",
            "[230]\ttest-rmse:4.25951\n",
            "[231]\ttest-rmse:4.25829\n",
            "[232]\ttest-rmse:4.25806\n",
            "[233]\ttest-rmse:4.25796\n",
            "[234]\ttest-rmse:4.2579\n",
            "[235]\ttest-rmse:4.2578\n",
            "[236]\ttest-rmse:4.25756\n",
            "[237]\ttest-rmse:4.25648\n",
            "[238]\ttest-rmse:4.25575\n",
            "[239]\ttest-rmse:4.25522\n",
            "[240]\ttest-rmse:4.25425\n",
            "[241]\ttest-rmse:4.25355\n",
            "[242]\ttest-rmse:4.25351\n",
            "[243]\ttest-rmse:4.25287\n",
            "[244]\ttest-rmse:4.25284\n",
            "[245]\ttest-rmse:4.25256\n",
            "[246]\ttest-rmse:4.25226\n",
            "[247]\ttest-rmse:4.2518\n",
            "[248]\ttest-rmse:4.25147\n",
            "[249]\ttest-rmse:4.25138\n",
            "[250]\ttest-rmse:4.25088\n",
            "[251]\ttest-rmse:4.25073\n",
            "[252]\ttest-rmse:4.2502\n",
            "[253]\ttest-rmse:4.25001\n",
            "[254]\ttest-rmse:4.24963\n",
            "[255]\ttest-rmse:4.24931\n",
            "[256]\ttest-rmse:4.24926\n",
            "[257]\ttest-rmse:4.2488\n",
            "[258]\ttest-rmse:4.2488\n",
            "[259]\ttest-rmse:4.2485\n",
            "[260]\ttest-rmse:4.2477\n",
            "[261]\ttest-rmse:4.24755\n",
            "[262]\ttest-rmse:4.24757\n",
            "[263]\ttest-rmse:4.24621\n",
            "[264]\ttest-rmse:4.24592\n",
            "[265]\ttest-rmse:4.24489\n",
            "[266]\ttest-rmse:4.24511\n",
            "[267]\ttest-rmse:4.24489\n",
            "[268]\ttest-rmse:4.24447\n",
            "[269]\ttest-rmse:4.24362\n",
            "[270]\ttest-rmse:4.24361\n",
            "[271]\ttest-rmse:4.24357\n",
            "[272]\ttest-rmse:4.24337\n",
            "[273]\ttest-rmse:4.24375\n",
            "[274]\ttest-rmse:4.2436\n",
            "[275]\ttest-rmse:4.24365\n",
            "[276]\ttest-rmse:4.24285\n",
            "[277]\ttest-rmse:4.24318\n",
            "[278]\ttest-rmse:4.2427\n",
            "[279]\ttest-rmse:4.24274\n",
            "[280]\ttest-rmse:4.24324\n",
            "[281]\ttest-rmse:4.24268\n",
            "[282]\ttest-rmse:4.24274\n",
            "[283]\ttest-rmse:4.24283\n",
            "[284]\ttest-rmse:4.24306\n",
            "[285]\ttest-rmse:4.24274\n",
            "[286]\ttest-rmse:4.24226\n",
            "[287]\ttest-rmse:4.24206\n",
            "[288]\ttest-rmse:4.24184\n",
            "[289]\ttest-rmse:4.24214\n",
            "[290]\ttest-rmse:4.24205\n",
            "[291]\ttest-rmse:4.24194\n",
            "[292]\ttest-rmse:4.24162\n",
            "[293]\ttest-rmse:4.24078\n",
            "[294]\ttest-rmse:4.24085\n",
            "[295]\ttest-rmse:4.24086\n",
            "[296]\ttest-rmse:4.24092\n",
            "[297]\ttest-rmse:4.24067\n",
            "[298]\ttest-rmse:4.24025\n",
            "[299]\ttest-rmse:4.23982\n",
            "[300]\ttest-rmse:4.23994\n",
            "[301]\ttest-rmse:4.23935\n",
            "[302]\ttest-rmse:4.23917\n",
            "[303]\ttest-rmse:4.23907\n",
            "[304]\ttest-rmse:4.23948\n",
            "[305]\ttest-rmse:4.23919\n",
            "[306]\ttest-rmse:4.23865\n",
            "[307]\ttest-rmse:4.23861\n",
            "[308]\ttest-rmse:4.23856\n",
            "[309]\ttest-rmse:4.23806\n",
            "[310]\ttest-rmse:4.23812\n",
            "[311]\ttest-rmse:4.23817\n",
            "[312]\ttest-rmse:4.23804\n",
            "[313]\ttest-rmse:4.23783\n",
            "[314]\ttest-rmse:4.23768\n",
            "[315]\ttest-rmse:4.23756\n",
            "[316]\ttest-rmse:4.23774\n",
            "[317]\ttest-rmse:4.2379\n",
            "[318]\ttest-rmse:4.23776\n",
            "[319]\ttest-rmse:4.23768\n",
            "[320]\ttest-rmse:4.23775\n",
            "[321]\ttest-rmse:4.23732\n",
            "[322]\ttest-rmse:4.23735\n",
            "[323]\ttest-rmse:4.23702\n",
            "[324]\ttest-rmse:4.23754\n",
            "[325]\ttest-rmse:4.23751\n",
            "[326]\ttest-rmse:4.23739\n",
            "[327]\ttest-rmse:4.23707\n",
            "[328]\ttest-rmse:4.23708\n",
            "[329]\ttest-rmse:4.23725\n",
            "[330]\ttest-rmse:4.23724\n",
            "[331]\ttest-rmse:4.23713\n",
            "[332]\ttest-rmse:4.23713\n",
            "[333]\ttest-rmse:4.23578\n",
            "[334]\ttest-rmse:4.23578\n",
            "[335]\ttest-rmse:4.23471\n",
            "[336]\ttest-rmse:4.23476\n",
            "[337]\ttest-rmse:4.2349\n",
            "[338]\ttest-rmse:4.23457\n",
            "[339]\ttest-rmse:4.23422\n",
            "[340]\ttest-rmse:4.23387\n",
            "[341]\ttest-rmse:4.23363\n",
            "[342]\ttest-rmse:4.23358\n",
            "[343]\ttest-rmse:4.23367\n",
            "[344]\ttest-rmse:4.23371\n",
            "[345]\ttest-rmse:4.23362\n",
            "[346]\ttest-rmse:4.23377\n",
            "[347]\ttest-rmse:4.23376\n",
            "[348]\ttest-rmse:4.23271\n",
            "[349]\ttest-rmse:4.23247\n",
            "[350]\ttest-rmse:4.23247\n",
            "[351]\ttest-rmse:4.23235\n",
            "[352]\ttest-rmse:4.23152\n",
            "[353]\ttest-rmse:4.23158\n",
            "[354]\ttest-rmse:4.23145\n",
            "[355]\ttest-rmse:4.23143\n",
            "[356]\ttest-rmse:4.23126\n",
            "[357]\ttest-rmse:4.23098\n",
            "[358]\ttest-rmse:4.23083\n",
            "[359]\ttest-rmse:4.23043\n",
            "[360]\ttest-rmse:4.22952\n",
            "[361]\ttest-rmse:4.22945\n",
            "[362]\ttest-rmse:4.22914\n",
            "[363]\ttest-rmse:4.22926\n",
            "[364]\ttest-rmse:4.22941\n",
            "[365]\ttest-rmse:4.22891\n",
            "[366]\ttest-rmse:4.22863\n",
            "[367]\ttest-rmse:4.22846\n",
            "[368]\ttest-rmse:4.22843\n",
            "[369]\ttest-rmse:4.22821\n",
            "[370]\ttest-rmse:4.22817\n",
            "[371]\ttest-rmse:4.22804\n",
            "[372]\ttest-rmse:4.22782\n",
            "[373]\ttest-rmse:4.22727\n",
            "[374]\ttest-rmse:4.22704\n",
            "[375]\ttest-rmse:4.22659\n",
            "[376]\ttest-rmse:4.22584\n",
            "[377]\ttest-rmse:4.22583\n",
            "[378]\ttest-rmse:4.22575\n",
            "[379]\ttest-rmse:4.22594\n",
            "[380]\ttest-rmse:4.22617\n",
            "[381]\ttest-rmse:4.22601\n",
            "[382]\ttest-rmse:4.22584\n",
            "[383]\ttest-rmse:4.22489\n",
            "[384]\ttest-rmse:4.22493\n",
            "[385]\ttest-rmse:4.22495\n",
            "[386]\ttest-rmse:4.22491\n",
            "[387]\ttest-rmse:4.22485\n",
            "[388]\ttest-rmse:4.22394\n",
            "[389]\ttest-rmse:4.22392\n",
            "[390]\ttest-rmse:4.22387\n",
            "[391]\ttest-rmse:4.22406\n",
            "[392]\ttest-rmse:4.22404\n",
            "[393]\ttest-rmse:4.22421\n",
            "[394]\ttest-rmse:4.22435\n",
            "[395]\ttest-rmse:4.22419\n",
            "[396]\ttest-rmse:4.2241\n",
            "[397]\ttest-rmse:4.22421\n",
            "[398]\ttest-rmse:4.22397\n",
            "[399]\ttest-rmse:4.2238\n",
            "[400]\ttest-rmse:4.22371\n",
            "[401]\ttest-rmse:4.22333\n",
            "[402]\ttest-rmse:4.22333\n",
            "[403]\ttest-rmse:4.22337\n",
            "[404]\ttest-rmse:4.22379\n",
            "[405]\ttest-rmse:4.22379\n",
            "[406]\ttest-rmse:4.22366\n",
            "[407]\ttest-rmse:4.22363\n",
            "[408]\ttest-rmse:4.2236\n",
            "[409]\ttest-rmse:4.22356\n",
            "[410]\ttest-rmse:4.22354\n",
            "[411]\ttest-rmse:4.22333\n",
            "[412]\ttest-rmse:4.22336\n",
            "[413]\ttest-rmse:4.22338\n",
            "[414]\ttest-rmse:4.22291\n",
            "[415]\ttest-rmse:4.22286\n",
            "[416]\ttest-rmse:4.22282\n",
            "[417]\ttest-rmse:4.22259\n",
            "[418]\ttest-rmse:4.22281\n",
            "[419]\ttest-rmse:4.22273\n",
            "[420]\ttest-rmse:4.22282\n",
            "[421]\ttest-rmse:4.22281\n",
            "[422]\ttest-rmse:4.22286\n",
            "[423]\ttest-rmse:4.22266\n",
            "[424]\ttest-rmse:4.22254\n",
            "[425]\ttest-rmse:4.22237\n",
            "[426]\ttest-rmse:4.22226\n",
            "[427]\ttest-rmse:4.2224\n",
            "[428]\ttest-rmse:4.22239\n",
            "[429]\ttest-rmse:4.22237\n",
            "[430]\ttest-rmse:4.22211\n",
            "[431]\ttest-rmse:4.22211\n",
            "[432]\ttest-rmse:4.22204\n",
            "[433]\ttest-rmse:4.22148\n",
            "[434]\ttest-rmse:4.2215\n",
            "[435]\ttest-rmse:4.22169\n",
            "[436]\ttest-rmse:4.22155\n",
            "[437]\ttest-rmse:4.22159\n",
            "[438]\ttest-rmse:4.2217\n",
            "[439]\ttest-rmse:4.22123\n",
            "[440]\ttest-rmse:4.22112\n",
            "[441]\ttest-rmse:4.22114\n",
            "[442]\ttest-rmse:4.22108\n",
            "[443]\ttest-rmse:4.22107\n",
            "[444]\ttest-rmse:4.22054\n",
            "[445]\ttest-rmse:4.22056\n",
            "[446]\ttest-rmse:4.22031\n",
            "[447]\ttest-rmse:4.22023\n",
            "[448]\ttest-rmse:4.2201\n",
            "[449]\ttest-rmse:4.21996\n",
            "[450]\ttest-rmse:4.21947\n",
            "[451]\ttest-rmse:4.21946\n",
            "[452]\ttest-rmse:4.2194\n",
            "[453]\ttest-rmse:4.21911\n",
            "[454]\ttest-rmse:4.21901\n",
            "[455]\ttest-rmse:4.21862\n",
            "[456]\ttest-rmse:4.21837\n",
            "[457]\ttest-rmse:4.21838\n",
            "[458]\ttest-rmse:4.21787\n",
            "[459]\ttest-rmse:4.2176\n",
            "[460]\ttest-rmse:4.21793\n",
            "[461]\ttest-rmse:4.21772\n",
            "[462]\ttest-rmse:4.21755\n",
            "[463]\ttest-rmse:4.21757\n",
            "[464]\ttest-rmse:4.2172\n",
            "[465]\ttest-rmse:4.21721\n",
            "[466]\ttest-rmse:4.21692\n",
            "[467]\ttest-rmse:4.21688\n",
            "[468]\ttest-rmse:4.21683\n",
            "[469]\ttest-rmse:4.21681\n",
            "[470]\ttest-rmse:4.21673\n",
            "[471]\ttest-rmse:4.21671\n",
            "[472]\ttest-rmse:4.21691\n",
            "[473]\ttest-rmse:4.21714\n",
            "[474]\ttest-rmse:4.21713\n",
            "[475]\ttest-rmse:4.21716\n",
            "[476]\ttest-rmse:4.21702\n",
            "[477]\ttest-rmse:4.21678\n",
            "[478]\ttest-rmse:4.21675\n",
            "[479]\ttest-rmse:4.2167\n",
            "[480]\ttest-rmse:4.21655\n",
            "[481]\ttest-rmse:4.21661\n",
            "[482]\ttest-rmse:4.21635\n",
            "[483]\ttest-rmse:4.21633\n",
            "[484]\ttest-rmse:4.21615\n",
            "[485]\ttest-rmse:4.21616\n",
            "[486]\ttest-rmse:4.21554\n",
            "[487]\ttest-rmse:4.21552\n",
            "[488]\ttest-rmse:4.21528\n",
            "[489]\ttest-rmse:4.21565\n",
            "[490]\ttest-rmse:4.21558\n",
            "[491]\ttest-rmse:4.21569\n",
            "[492]\ttest-rmse:4.21571\n",
            "[493]\ttest-rmse:4.21573\n",
            "[494]\ttest-rmse:4.21568\n",
            "[495]\ttest-rmse:4.2158\n",
            "[496]\ttest-rmse:4.21565\n",
            "[497]\ttest-rmse:4.21562\n",
            "[498]\ttest-rmse:4.21558\n",
            "Stopping. Best iteration:\n",
            "[488]\ttest-rmse:4.21528\n",
            "\n"
          ],
          "name": "stdout"
        }
      ]
    },
    {
      "cell_type": "code",
      "metadata": {
        "id": "1_MAx_Sva4R-"
      },
      "source": [
        "prediction = model.predict(xgb.DMatrix(df_test), ntree_limit = model.best_ntree_limit).tolist()"
      ],
      "execution_count": 52,
      "outputs": []
    },
    {
      "cell_type": "code",
      "metadata": {
        "colab": {
          "base_uri": "https://localhost:8080/",
          "height": 609
        },
        "id": "TpUD_Hlta_Py",
        "outputId": "56655f3d-7911-425d-bb14-4a6906dc7635"
      },
      "source": [
        "test"
      ],
      "execution_count": 53,
      "outputs": [
        {
          "output_type": "execute_result",
          "data": {
            "text/html": [
              "<div>\n",
              "<style scoped>\n",
              "    .dataframe tbody tr th:only-of-type {\n",
              "        vertical-align: middle;\n",
              "    }\n",
              "\n",
              "    .dataframe tbody tr th {\n",
              "        vertical-align: top;\n",
              "    }\n",
              "\n",
              "    .dataframe thead th {\n",
              "        text-align: right;\n",
              "    }\n",
              "</style>\n",
              "<table border=\"1\" class=\"dataframe\">\n",
              "  <thead>\n",
              "    <tr style=\"text-align: right;\">\n",
              "      <th></th>\n",
              "      <th>key</th>\n",
              "      <th>pickup_datetime</th>\n",
              "      <th>pickup_longitude</th>\n",
              "      <th>pickup_latitude</th>\n",
              "      <th>dropoff_longitude</th>\n",
              "      <th>dropoff_latitude</th>\n",
              "      <th>passenger_count</th>\n",
              "      <th>hour_of_day</th>\n",
              "      <th>minutes</th>\n",
              "      <th>month</th>\n",
              "      <th>year</th>\n",
              "      <th>weekday</th>\n",
              "      <th>distance_miles</th>\n",
              "      <th>pickup_distance_to_jfk</th>\n",
              "      <th>dropoff_distance_to_jfk</th>\n",
              "      <th>pickup_distance_to_ewr</th>\n",
              "      <th>dropoff_distance_to_ewr</th>\n",
              "      <th>pickup_distance_to_lgr</th>\n",
              "      <th>dropoff_distance_to_lgr</th>\n",
              "    </tr>\n",
              "  </thead>\n",
              "  <tbody>\n",
              "    <tr>\n",
              "      <th>0</th>\n",
              "      <td>2015-01-27 13:08:24.0000002</td>\n",
              "      <td>2015-01-27 13:08:00+00:00</td>\n",
              "      <td>-73.973320</td>\n",
              "      <td>40.763805</td>\n",
              "      <td>-73.981430</td>\n",
              "      <td>40.743835</td>\n",
              "      <td>1</td>\n",
              "      <td>13</td>\n",
              "      <td>8</td>\n",
              "      <td>1</td>\n",
              "      <td>2015</td>\n",
              "      <td>1</td>\n",
              "      <td>1.443607</td>\n",
              "      <td>13.274326</td>\n",
              "      <td>12.792807</td>\n",
              "      <td>11.718491</td>\n",
              "      <td>10.785343</td>\n",
              "      <td>5.275249</td>\n",
              "      <td>6.068721</td>\n",
              "    </tr>\n",
              "    <tr>\n",
              "      <th>1</th>\n",
              "      <td>2015-01-27 13:08:24.0000003</td>\n",
              "      <td>2015-01-27 13:08:00+00:00</td>\n",
              "      <td>-73.986862</td>\n",
              "      <td>40.719383</td>\n",
              "      <td>-73.998886</td>\n",
              "      <td>40.739201</td>\n",
              "      <td>1</td>\n",
              "      <td>13</td>\n",
              "      <td>8</td>\n",
              "      <td>1</td>\n",
              "      <td>2015</td>\n",
              "      <td>1</td>\n",
              "      <td>1.507044</td>\n",
              "      <td>12.196699</td>\n",
              "      <td>13.399582</td>\n",
              "      <td>10.042731</td>\n",
              "      <td>9.817205</td>\n",
              "      <td>7.119935</td>\n",
              "      <td>7.035995</td>\n",
              "    </tr>\n",
              "    <tr>\n",
              "      <th>2</th>\n",
              "      <td>2011-10-08 11:53:44.0000002</td>\n",
              "      <td>2011-10-08 11:53:00+00:00</td>\n",
              "      <td>-73.982524</td>\n",
              "      <td>40.751260</td>\n",
              "      <td>-73.979654</td>\n",
              "      <td>40.746139</td>\n",
              "      <td>1</td>\n",
              "      <td>11</td>\n",
              "      <td>53</td>\n",
              "      <td>10</td>\n",
              "      <td>2011</td>\n",
              "      <td>5</td>\n",
              "      <td>0.384398</td>\n",
              "      <td>13.130080</td>\n",
              "      <td>12.804646</td>\n",
              "      <td>10.921174</td>\n",
              "      <td>10.928398</td>\n",
              "      <td>5.949126</td>\n",
              "      <td>5.923673</td>\n",
              "    </tr>\n",
              "    <tr>\n",
              "      <th>3</th>\n",
              "      <td>2012-12-01 21:12:12.0000002</td>\n",
              "      <td>2012-12-01 21:12:00+00:00</td>\n",
              "      <td>-73.981160</td>\n",
              "      <td>40.767807</td>\n",
              "      <td>-73.990448</td>\n",
              "      <td>40.751635</td>\n",
              "      <td>1</td>\n",
              "      <td>21</td>\n",
              "      <td>12</td>\n",
              "      <td>12</td>\n",
              "      <td>2012</td>\n",
              "      <td>5</td>\n",
              "      <td>1.218529</td>\n",
              "      <td>13.766807</td>\n",
              "      <td>13.485374</td>\n",
              "      <td>11.478334</td>\n",
              "      <td>10.550950</td>\n",
              "      <td>5.642243</td>\n",
              "      <td>6.338990</td>\n",
              "    </tr>\n",
              "    <tr>\n",
              "      <th>4</th>\n",
              "      <td>2012-12-01 21:12:12.0000003</td>\n",
              "      <td>2012-12-01 21:12:00+00:00</td>\n",
              "      <td>-73.966046</td>\n",
              "      <td>40.789775</td>\n",
              "      <td>-73.988565</td>\n",
              "      <td>40.744427</td>\n",
              "      <td>1</td>\n",
              "      <td>21</td>\n",
              "      <td>12</td>\n",
              "      <td>12</td>\n",
              "      <td>2012</td>\n",
              "      <td>5</td>\n",
              "      <td>3.347514</td>\n",
              "      <td>14.216819</td>\n",
              "      <td>13.127774</td>\n",
              "      <td>12.926314</td>\n",
              "      <td>10.450604</td>\n",
              "      <td>4.896995</td>\n",
              "      <td>6.401733</td>\n",
              "    </tr>\n",
              "    <tr>\n",
              "      <th>...</th>\n",
              "      <td>...</td>\n",
              "      <td>...</td>\n",
              "      <td>...</td>\n",
              "      <td>...</td>\n",
              "      <td>...</td>\n",
              "      <td>...</td>\n",
              "      <td>...</td>\n",
              "      <td>...</td>\n",
              "      <td>...</td>\n",
              "      <td>...</td>\n",
              "      <td>...</td>\n",
              "      <td>...</td>\n",
              "      <td>...</td>\n",
              "      <td>...</td>\n",
              "      <td>...</td>\n",
              "      <td>...</td>\n",
              "      <td>...</td>\n",
              "      <td>...</td>\n",
              "      <td>...</td>\n",
              "    </tr>\n",
              "    <tr>\n",
              "      <th>9909</th>\n",
              "      <td>2015-05-10 12:37:51.0000002</td>\n",
              "      <td>2015-05-10 12:37:00+00:00</td>\n",
              "      <td>-73.968124</td>\n",
              "      <td>40.796997</td>\n",
              "      <td>-73.955643</td>\n",
              "      <td>40.780388</td>\n",
              "      <td>6</td>\n",
              "      <td>12</td>\n",
              "      <td>37</td>\n",
              "      <td>5</td>\n",
              "      <td>2015</td>\n",
              "      <td>6</td>\n",
              "      <td>1.320336</td>\n",
              "      <td>14.654308</td>\n",
              "      <td>13.372190</td>\n",
              "      <td>13.110204</td>\n",
              "      <td>13.066168</td>\n",
              "      <td>5.116029</td>\n",
              "      <td>4.278349</td>\n",
              "    </tr>\n",
              "    <tr>\n",
              "      <th>9910</th>\n",
              "      <td>2015-01-12 17:05:51.0000001</td>\n",
              "      <td>2015-01-12 17:05:00+00:00</td>\n",
              "      <td>-73.945511</td>\n",
              "      <td>40.803600</td>\n",
              "      <td>-73.960213</td>\n",
              "      <td>40.776371</td>\n",
              "      <td>6</td>\n",
              "      <td>17</td>\n",
              "      <td>5</td>\n",
              "      <td>1</td>\n",
              "      <td>2015</td>\n",
              "      <td>0</td>\n",
              "      <td>2.032486</td>\n",
              "      <td>14.233755</td>\n",
              "      <td>13.344366</td>\n",
              "      <td>14.346682</td>\n",
              "      <td>12.723911</td>\n",
              "      <td>4.170965</td>\n",
              "      <td>4.510944</td>\n",
              "    </tr>\n",
              "    <tr>\n",
              "      <th>9911</th>\n",
              "      <td>2015-04-19 20:44:15.0000001</td>\n",
              "      <td>2015-04-19 20:44:00+00:00</td>\n",
              "      <td>-73.991600</td>\n",
              "      <td>40.726608</td>\n",
              "      <td>-73.789742</td>\n",
              "      <td>40.647011</td>\n",
              "      <td>6</td>\n",
              "      <td>20</td>\n",
              "      <td>44</td>\n",
              "      <td>4</td>\n",
              "      <td>2015</td>\n",
              "      <td>6</td>\n",
              "      <td>11.920349</td>\n",
              "      <td>12.644137</td>\n",
              "      <td>0.726759</td>\n",
              "      <td>9.916691</td>\n",
              "      <td>20.376600</td>\n",
              "      <td>7.068421</td>\n",
              "      <td>10.000717</td>\n",
              "    </tr>\n",
              "    <tr>\n",
              "      <th>9912</th>\n",
              "      <td>2015-01-31 01:05:19.0000005</td>\n",
              "      <td>2015-01-31 01:05:00+00:00</td>\n",
              "      <td>-73.985573</td>\n",
              "      <td>40.735432</td>\n",
              "      <td>-73.939178</td>\n",
              "      <td>40.801731</td>\n",
              "      <td>6</td>\n",
              "      <td>1</td>\n",
              "      <td>5</td>\n",
              "      <td>1</td>\n",
              "      <td>2015</td>\n",
              "      <td>5</td>\n",
              "      <td>5.184402</td>\n",
              "      <td>12.666946</td>\n",
              "      <td>13.929041</td>\n",
              "      <td>10.391022</td>\n",
              "      <td>14.555692</td>\n",
              "      <td>6.504521</td>\n",
              "      <td>3.816918</td>\n",
              "    </tr>\n",
              "    <tr>\n",
              "      <th>9913</th>\n",
              "      <td>2015-01-18 14:06:23.0000006</td>\n",
              "      <td>2015-01-18 14:06:00+00:00</td>\n",
              "      <td>-73.988022</td>\n",
              "      <td>40.754070</td>\n",
              "      <td>-74.000282</td>\n",
              "      <td>40.759220</td>\n",
              "      <td>6</td>\n",
              "      <td>14</td>\n",
              "      <td>6</td>\n",
              "      <td>1</td>\n",
              "      <td>2015</td>\n",
              "      <td>6</td>\n",
              "      <td>0.733731</td>\n",
              "      <td>13.477140</td>\n",
              "      <td>14.206749</td>\n",
              "      <td>10.735791</td>\n",
              "      <td>10.316298</td>\n",
              "      <td>6.171796</td>\n",
              "      <td>6.720116</td>\n",
              "    </tr>\n",
              "  </tbody>\n",
              "</table>\n",
              "<p>9914 rows × 19 columns</p>\n",
              "</div>"
            ],
            "text/plain": [
              "                              key  ... dropoff_distance_to_lgr\n",
              "0     2015-01-27 13:08:24.0000002  ...                6.068721\n",
              "1     2015-01-27 13:08:24.0000003  ...                7.035995\n",
              "2     2011-10-08 11:53:44.0000002  ...                5.923673\n",
              "3     2012-12-01 21:12:12.0000002  ...                6.338990\n",
              "4     2012-12-01 21:12:12.0000003  ...                6.401733\n",
              "...                           ...  ...                     ...\n",
              "9909  2015-05-10 12:37:51.0000002  ...                4.278349\n",
              "9910  2015-01-12 17:05:51.0000001  ...                4.510944\n",
              "9911  2015-04-19 20:44:15.0000001  ...               10.000717\n",
              "9912  2015-01-31 01:05:19.0000005  ...                3.816918\n",
              "9913  2015-01-18 14:06:23.0000006  ...                6.720116\n",
              "\n",
              "[9914 rows x 19 columns]"
            ]
          },
          "metadata": {
            "tags": []
          },
          "execution_count": 53
        }
      ]
    },
    {
      "cell_type": "code",
      "metadata": {
        "id": "EaLkvmQXa92C"
      },
      "source": [
        "\n",
        "holdout = pd.DataFrame({'key': test['key'], 'fare_amount': prediction})\n",
        "holdout.to_csv('xgb_4m_utc_with_cleaning.csv', index=False)"
      ],
      "execution_count": 54,
      "outputs": []
    },
    {
      "cell_type": "code",
      "metadata": {
        "colab": {
          "base_uri": "https://localhost:8080/",
          "height": 392
        },
        "id": "Vn2xPvAubEcI",
        "outputId": "f6d84edd-bba4-4181-c92e-d4815d43c137"
      },
      "source": [
        "import matplotlib.pyplot as plt\n",
        "fscores = pd.DataFrame({'X': list(model.get_fscore().keys()), 'Y': list(model.get_fscore().values())})\n",
        "fscores.sort_values(by='Y').plot.bar(x='X')"
      ],
      "execution_count": 55,
      "outputs": [
        {
          "output_type": "execute_result",
          "data": {
            "text/plain": [
              "<matplotlib.axes._subplots.AxesSubplot at 0x7fa0b8b47e90>"
            ]
          },
          "metadata": {
            "tags": []
          },
          "execution_count": 55
        },
        {
          "output_type": "display_data",
          "data": {
            "image/png": "[encoded data removed]",
            "text/plain": [
              "<Figure size 432x288 with 1 Axes>"
            ]
          },
          "metadata": {
            "tags": [],
            "needs_background": "light"
          }
        }
      ]
    }
  ]
}